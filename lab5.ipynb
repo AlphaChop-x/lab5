{
  "cells": [
    {
      "cell_type": "markdown",
      "id": "cfa87c9f-dd5d-4cf7-a9f4-50de4b36ce40",
      "metadata": {
        "id": "cfa87c9f-dd5d-4cf7-a9f4-50de4b36ce40"
      },
      "source": [
        "## Классификация изображений\n",
        "### Вводные слова\n",
        "Задача классификации изображений - это одна из ключевых задач в области компьютерного зрения и машинного обучения. Она заключается в том, чтобы разработать модель, способную автоматически определить, к какому классу или категории принадлежит данное изображение. Классификация используется в следующих задачах: классификация спектрограмм музыкальных записей для выявления предпочтений конкретного пользователя, классификация изображений для автоматической идентификации людей на фотографиях, кластеризация покупок пользователя в интернет-магазине для формирования целевой рекламы, и так далее\n",
        "### Рекомендации\n",
        "Работу лучше выполнять в среде Google Colab, поскольку потребуется осуществлять вычисления на видеокарте. В Colab в меню нажмите на Изменить->Настройки блокнота и выберите доступный GPU. Это позволит использовать для обучения CUDA\n",
        "### Цель работы и задачи\n",
        "В данной работе мы разработаем модель, для предсказания класса на датасете cifar-10. Ниже будет представлена baseline модель, основываясь на которой вы можете строить свою модель для классификации\n",
        "\\\n",
        "Задачи, которые вам нужно решить в работе:\n",
        "\\\n",
        "Обязательные:\n",
        "- Построить распределение классов в данных\n",
        "- Подготовить данные и обучить baseline-модель на датасете\n",
        "- Оценить качество модели\n",
        "- Написать свою модель и обучить ее\n",
        "\n",
        "Желательные:\n",
        "- Подумать об архитектуре модели, быть может стоит сделать ее глубже, добавить боковые связи и т.д.\n",
        "- Задуматься об аугментации\n",
        "- Попробовать transfer-learning\n",
        "\n",
        "\\\n",
        "\\\n",
        "Ваша работа будет оцениваться исходя из 2 факторов:\n",
        "- контрольная метрика\n",
        "- протокол исследования, которым и будет служить этот Jupyter-Notebook\n",
        "\n",
        "\\\n",
        "Максимальный балл за работу - 20.\n",
        "\\\n",
        "Удачи!"
      ]
    },
    {
      "cell_type": "markdown",
      "id": "f7e69704-f4ce-4b25-98ce-5e98630a389d",
      "metadata": {
        "id": "f7e69704-f4ce-4b25-98ce-5e98630a389d"
      },
      "source": [
        "## Baseline-модель"
      ]
    },
    {
      "cell_type": "code",
      "execution_count": 3,
      "id": "e06b4054-5e95-4ce5-96b0-e0817d64e809",
      "metadata": {
        "id": "e06b4054-5e95-4ce5-96b0-e0817d64e809"
      },
      "outputs": [],
      "source": [
        "import torch\n",
        "from tqdm import tqdm\n",
        "import torch.nn as nn\n",
        "import torch.optim as optim\n",
        "import torchvision\n",
        "import torchvision.transforms as transforms\n",
        "import matplotlib.pyplot as plt\n",
        "import numpy as np\n",
        "from sklearn.model_selection import train_test_split\n",
        "from torch.functional import F"
      ]
    },
    {
      "cell_type": "markdown",
      "id": "cbb6abc6-ee2d-408a-8521-11c9602e63ce",
      "metadata": {
        "id": "cbb6abc6-ee2d-408a-8521-11c9602e63ce"
      },
      "source": [
        "Обучать мы будем, разумеется, на cuda, поэтому, создадим переменную device, которая будет зависеть от того, доступна ли видеокарта для вычислений"
      ]
    },
    {
      "cell_type": "code",
      "execution_count": null,
      "id": "17f8d12f-a0c3-44e7-912f-59485c4146c7",
      "metadata": {
        "id": "17f8d12f-a0c3-44e7-912f-59485c4146c7"
      },
      "outputs": [],
      "source": [
        "device = torch.device('cuda') if torch.cuda.is_available() else torch.device('cpu')\n",
        "print(f'Running on {device}')\n",
        "\n",
        "# Функция для подсчета числа параметров\n",
        "def count_parameters(model):\n",
        "    return sum(p.numel() for p in model.parameters() if p.requires_grad)"
      ]
    },
    {
      "cell_type": "code",
      "execution_count": null,
      "id": "76fc0bb5-d955-4516-a47d-16b29c29a0af",
      "metadata": {
        "id": "76fc0bb5-d955-4516-a47d-16b29c29a0af"
      },
      "outputs": [],
      "source": [
        "class Baseline(nn.Module):\n",
        "    def __init__(self, num_classes=10):\n",
        "        super(Baseline, self).__init__()\n",
        "        # Сверточные слои\n",
        "        self.conv1 = nn.Conv2d(in_channels=3, out_channels=16, kernel_size=3, padding=1)\n",
        "        self.conv2 = nn.Conv2d(in_channels=16, out_channels=32, kernel_size=3, padding=1)\n",
        "        # Полносвязные слои\n",
        "        self.fc1 = nn.Linear(in_features=32 * 8 * 8, out_features=128)\n",
        "        self.fc2 = nn.Linear(in_features=128, out_features=num_classes)\n",
        "\n",
        "    def forward(self, x):\n",
        "        # Прямой проход через сверточные слои\n",
        "        x = torch.relu(self.conv1(x))\n",
        "        x = torch.max_pool2d(x, kernel_size=2, stride=2)\n",
        "        x = torch.relu(self.conv2(x))\n",
        "        x = torch.max_pool2d(x, kernel_size=2, stride=2)\n",
        "\n",
        "        # Вытягивание в одномерный вектор\n",
        "        x = x.view(x.size(0), -1)\n",
        "\n",
        "        # Прямой проход через полносвязные слои\n",
        "        x = torch.relu(self.fc1(x))\n",
        "        x = self.fc2(x)\n",
        "\n",
        "        return x"
      ]
    },
    {
      "cell_type": "markdown",
      "id": "66a75636-3a12-42d0-a050-51b79b9b76ba",
      "metadata": {
        "id": "66a75636-3a12-42d0-a050-51b79b9b76ba"
      },
      "source": [
        "Загрузим данные, построим диаграммы для распределения классов и посмотрим на сами картинки"
      ]
    },
    {
      "cell_type": "code",
      "execution_count": 2,
      "id": "552abcaa-ae9a-4f77-a0b7-05311057d3cb",
      "metadata": {
        "id": "552abcaa-ae9a-4f77-a0b7-05311057d3cb",
        "outputId": "42d8fb43-aee6-4b30-c1f8-72ae682a3e88",
        "colab": {
          "base_uri": "https://localhost:8080/",
          "height": 229
        }
      },
      "outputs": [
        {
          "output_type": "error",
          "ename": "NameError",
          "evalue": "name 'transforms' is not defined",
          "traceback": [
            "\u001b[0;31m---------------------------------------------------------------------------\u001b[0m",
            "\u001b[0;31mNameError\u001b[0m                                 Traceback (most recent call last)",
            "\u001b[0;32m<ipython-input-2-2f54caffc744>\u001b[0m in \u001b[0;36m<cell line: 2>\u001b[0;34m()\u001b[0m\n\u001b[1;32m      1\u001b[0m \u001b[0;31m# Будем превращать картинку в torch.Tensor\u001b[0m\u001b[0;34m\u001b[0m\u001b[0;34m\u001b[0m\u001b[0m\n\u001b[0;32m----> 2\u001b[0;31m \u001b[0mtransform\u001b[0m \u001b[0;34m=\u001b[0m \u001b[0mtransforms\u001b[0m\u001b[0;34m.\u001b[0m\u001b[0mToTensor\u001b[0m\u001b[0;34m(\u001b[0m\u001b[0;34m)\u001b[0m\u001b[0;34m\u001b[0m\u001b[0;34m\u001b[0m\u001b[0m\n\u001b[0m\u001b[1;32m      3\u001b[0m \u001b[0;34m\u001b[0m\u001b[0m\n\u001b[1;32m      4\u001b[0m \u001b[0;31m# Загрузим датасеты для train и test\u001b[0m\u001b[0;34m\u001b[0m\u001b[0;34m\u001b[0m\u001b[0m\n\u001b[1;32m      5\u001b[0m \u001b[0mtrain_dataset\u001b[0m \u001b[0;34m=\u001b[0m \u001b[0mtorchvision\u001b[0m\u001b[0;34m.\u001b[0m\u001b[0mdatasets\u001b[0m\u001b[0;34m.\u001b[0m\u001b[0mCIFAR10\u001b[0m\u001b[0;34m(\u001b[0m\u001b[0mroot\u001b[0m\u001b[0;34m=\u001b[0m\u001b[0;34m'./data'\u001b[0m\u001b[0;34m,\u001b[0m \u001b[0mtrain\u001b[0m\u001b[0;34m=\u001b[0m\u001b[0;32mTrue\u001b[0m\u001b[0;34m,\u001b[0m \u001b[0mtransform\u001b[0m\u001b[0;34m=\u001b[0m\u001b[0mtransform\u001b[0m\u001b[0;34m,\u001b[0m \u001b[0mdownload\u001b[0m\u001b[0;34m=\u001b[0m\u001b[0;32mTrue\u001b[0m\u001b[0;34m)\u001b[0m\u001b[0;34m\u001b[0m\u001b[0;34m\u001b[0m\u001b[0m\n",
            "\u001b[0;31mNameError\u001b[0m: name 'transforms' is not defined"
          ]
        }
      ],
      "source": [
        "# Будем превращать картинку в torch.Tensor\n",
        "transform = transforms.ToTensor()\n",
        "\n",
        "# Загрузим датасеты для train и test\n",
        "train_dataset = torchvision.datasets.CIFAR10(root='./data', train=True, transform=transform, download=True)\n",
        "test_dataset = torchvision.datasets.CIFAR10(root='./data', train=False, transform=transform, download=True)\n",
        "\n",
        "# Получим метки классов\n",
        "class_labels = train_dataset.classes\n",
        "class_counts = np.array([0] * len(class_labels))\n",
        "\n",
        "# Посчитаем число меток классов\n",
        "for _, label in train_dataset:\n",
        "    class_counts[label] += 1\n",
        "\n",
        "class_counts = class_counts / class_counts.sum() * 100\n",
        "\n",
        "# Построим диаграмму\n",
        "plt.figure(figsize=(10, 8))\n",
        "plt.bar(class_labels, class_counts)\n",
        "plt.xlabel('Классы')\n",
        "plt.ylabel('Количество изображений, %')\n",
        "plt.title('Распределение классов в датасете CIFAR-10')\n",
        "plt.xticks(rotation=45)\n",
        "plt.tight_layout()\n",
        "plt.show()"
      ]
    },
    {
      "cell_type": "code",
      "execution_count": null,
      "id": "f4505ddd-6bdb-42eb-9d83-c78091a824b4",
      "metadata": {
        "id": "f4505ddd-6bdb-42eb-9d83-c78091a824b4",
        "outputId": "d830bf3b-7a1e-49b5-b570-7282d8bb100b",
        "colab": {
          "base_uri": "https://localhost:8080/",
          "height": 675
        }
      },
      "outputs": [
        {
          "output_type": "display_data",
          "data": {
            "text/plain": [
              "<Figure size 800x800 with 9 Axes>"
            ],
            "image/png": "[encoded data removed]"
          },
          "metadata": {}
        }
      ],
      "source": [
        "indices = np.random.choice(len(train_dataset), 9, replace=False)\n",
        "\n",
        "# Создайте сетку 3x3 для отображения изображений\n",
        "fig, axes = plt.subplots(3, 3, figsize=(8, 8))\n",
        "for i, ax in enumerate(axes.flat):\n",
        "    image, label = train_dataset[indices[i]]\n",
        "    image = image.numpy().transpose((1, 2, 0))  # Перевести изображение из формата (C, H, W) в (H, W, C)\n",
        "    ax.imshow(image)\n",
        "    ax.set_title(f'Label: {class_labels[label]}')\n",
        "    ax.axis('off')\n",
        "\n",
        "plt.show()"
      ]
    },
    {
      "cell_type": "markdown",
      "id": "2d176f3c-b153-4ed8-8963-b268f7b5972f",
      "metadata": {
        "id": "2d176f3c-b153-4ed8-8963-b268f7b5972f"
      },
      "source": [
        "Сделайте вывод о сбалансированности датасета:\n",
        "\\\n",
        "Исходя из этого, какие метрики будем применять для оценки качества модели?"
      ]
    },
    {
      "cell_type": "markdown",
      "source": [
        "Датасет можно назвать сбалансированным, потому что в него входит 10 классов, по 6 тыс. изображений в каждом и они распределены равномерно, исходя из гистограммы выше\n",
        "\n",
        "Т.к датасет имеет сбалансированное распределение, для оценки качества модели можно использовать такие стандартные метрики как: Accuracy и Cross-Entropy Loss"
      ],
      "metadata": {
        "id": "vRw3piQFqHJl"
      },
      "id": "vRw3piQFqHJl"
    },
    {
      "cell_type": "markdown",
      "id": "f411c3aa-4894-40f4-9f2e-5cab17405d05",
      "metadata": {
        "id": "f411c3aa-4894-40f4-9f2e-5cab17405d05"
      },
      "source": [
        "Напишем функции train и test"
      ]
    },
    {
      "cell_type": "code",
      "execution_count": 11,
      "id": "85dd72a1-ff5a-493e-be70-da9af9efcc22",
      "metadata": {
        "id": "85dd72a1-ff5a-493e-be70-da9af9efcc22"
      },
      "outputs": [],
      "source": [
        "def train(model, train_loader, val_loader, criterion, optimizer, device, epochs=10):\n",
        "    model.train()\n",
        "    model = model.to(device)\n",
        "    train_loss_history = []\n",
        "    train_acc_history = []\n",
        "    val_loss_history = []\n",
        "    val_acc_history = []\n",
        "    for epoch in range(epochs):\n",
        "        running_loss = 0.0\n",
        "        correct = 0\n",
        "        total = 0\n",
        "        pbar = tqdm(enumerate(train_loader), total=len(train_loader), ncols=100, desc='Train epoch {}/{}'.format(epoch + 1, epochs))\n",
        "        for batch_idx, (inputs, labels) in pbar:\n",
        "            inputs, labels = inputs.to(device), labels.to(device)\n",
        "            # Занулите градиенты оптимизатора\n",
        "            optimizer.zero_grad()\n",
        "            # Прямой проход\n",
        "            outputs = model(inputs)\n",
        "            loss = criterion(outputs, labels)\n",
        "\n",
        "            # Сделайте обратный проход\n",
        "            loss.backward()\n",
        "            # Сделайте шаг оптимизации\n",
        "            optimizer.step()\n",
        "\n",
        "            running_loss += loss.item()\n",
        "\n",
        "            # Вычислите точность предсказания\n",
        "            _, predicted = torch.max(outputs.data, 1)\n",
        "            total += labels.size(0)\n",
        "            correct += (predicted == labels).sum().item()\n",
        "            pbar.set_postfix({'loss': '{:.4f}'.format(running_loss / (batch_idx + 1)), 'accuracy': '{:.4f}'.format(correct / total)})\n",
        "\n",
        "        train_loss_history.append(running_loss / len(train_loader))\n",
        "        train_acc_history.append(correct / total)\n",
        "        correct = 0\n",
        "        total = 0\n",
        "        test_loss = 0.0\n",
        "        pbar = tqdm(enumerate(val_loader), total=len(val_loader), ncols=100, desc='Val {}/{}'.format(epoch + 1, epochs))\n",
        "        with torch.no_grad():\n",
        "            for batch_idx, (inputs, labels) in pbar:\n",
        "                inputs, labels = inputs.to(device), labels.to(device)\n",
        "                outputs = model(inputs)\n",
        "                loss = criterion(outputs, labels)\n",
        "                test_loss += loss.item()\n",
        "                _, predicted = torch.max(outputs.data, 1)\n",
        "                total += labels.size(0)\n",
        "                correct += (predicted == labels).sum().item()\n",
        "                pbar.set_postfix({'loss': '{:.4f}'.format(test_loss / (batch_idx + 1)), 'accuracy': '{:.4f}'.format(correct / total)})\n",
        "\n",
        "        val_loss_history.append(test_loss / len(val_loader))\n",
        "        val_acc_history.append(correct / total)\n",
        "\n",
        "    return train_loss_history, train_acc_history, val_loss_history, val_acc_history\n",
        "\n",
        "def test(model, test_loader, criterion, device):\n",
        "    model.eval()\n",
        "    correct = 0\n",
        "    total = 0\n",
        "    test_loss = 0.0\n",
        "    with torch.no_grad():\n",
        "        for inputs, labels in test_loader:\n",
        "            inputs, labels = inputs.to(device), labels.to(device)\n",
        "            outputs = model(inputs)\n",
        "            loss = criterion(outputs, labels)\n",
        "            test_loss += loss.item()\n",
        "            _, predicted = torch.max(outputs.data, 1)\n",
        "            total += labels.size(0)\n",
        "            correct += (predicted == labels).sum().item()\n",
        "\n",
        "    accuracy = correct / total\n",
        "    average_loss = test_loss / len(test_loader)\n",
        "\n",
        "    return accuracy, average_loss"
      ]
    },
    {
      "cell_type": "markdown",
      "id": "1aba5730-5f22-4715-b181-5d3878fa12bc",
      "metadata": {
        "id": "1aba5730-5f22-4715-b181-5d3878fa12bc"
      },
      "source": [
        "Сделайте разделение на train и val\n",
        "\\\n",
        "Зачем так делать?"
      ]
    },
    {
      "cell_type": "markdown",
      "source": [
        "Разделение на Train и Val необходимо для того, чтобы оценить как модель работает с незнакомыми ей данными"
      ],
      "metadata": {
        "id": "Y7feBrbhtxNz"
      },
      "id": "Y7feBrbhtxNz"
    },
    {
      "cell_type": "code",
      "execution_count": null,
      "id": "e53ab630-8224-4d2f-9d02-79ab163d3fd1",
      "metadata": {
        "id": "e53ab630-8224-4d2f-9d02-79ab163d3fd1"
      },
      "outputs": [],
      "source": [
        "train_size = int(0.8 * len(train_dataset)) #80% данные для обучения, остальные 20% - для валидации\n",
        "val_size = len(train_dataset) - train_size\n",
        "#разделение на обучающий и валидационный датасеты\n",
        "train_dataset, val_dataset = train_test_split(train_dataset, test_size=val_size, random_state=42, shuffle=True)"
      ]
    },
    {
      "cell_type": "markdown",
      "id": "d0108c36-a287-410a-a4db-ec018503f113",
      "metadata": {
        "id": "d0108c36-a287-410a-a4db-ec018503f113"
      },
      "source": [
        "Создайте Dataloader'ы и настройте гиперпараметры, оптимизатор и функцию потерь\n",
        "\\\n",
        "Какой оптимизатор будете использовать и почему, а какую loss-функцию?"
      ]
    },
    {
      "cell_type": "markdown",
      "source": [
        "Мы используем оптимизатор адам потому что он самый распространённый"
      ],
      "metadata": {
        "id": "9GwDNmhE1fNf"
      },
      "id": "9GwDNmhE1fNf"
    },
    {
      "cell_type": "code",
      "execution_count": null,
      "id": "2a4a9cbd-5969-4bac-8fa0-9f5415082b2b",
      "metadata": {
        "id": "2a4a9cbd-5969-4bac-8fa0-9f5415082b2b",
        "outputId": "731117d4-1f03-48a2-a056-df715a27a073",
        "colab": {
          "base_uri": "https://localhost:8080/"
        }
      },
      "outputs": [
        {
          "output_type": "stream",
          "name": "stdout",
          "text": [
            "Model params:  268650\n"
          ]
        }
      ],
      "source": [
        "# Гиперпараметры\n",
        "learning_rate = 0.001\n",
        "num_epochs = 50\n",
        "batch_size = 512\n",
        "\n",
        "model = Baseline()\n",
        "\n",
        "print('Model params: ', count_parameters(model))\n",
        "\n",
        "# Определяем функцию потерь и оптимизатор\n",
        "criterion = torch.nn.CrossEntropyLoss()\n",
        "optimizer = torch.optim.Adam(model.parameters(), lr=learning_rate)\n",
        "\n",
        "# Создание загрузчиков данных для тренировки, валидации и тестирования\n",
        "train_loader = torch.utils.data.DataLoader(train_dataset, batch_size=batch_size, shuffle=True)\n",
        "val_loader = torch.utils.data.DataLoader(val_dataset, batch_size=batch_size, shuffle=True)\n",
        "test_loader = torch.utils.data.DataLoader(test_dataset, batch_size=batch_size, shuffle=False)"
      ]
    },
    {
      "cell_type": "markdown",
      "id": "6f1ff197-828a-4eda-ac8d-6a07d9597db5",
      "metadata": {
        "id": "6f1ff197-828a-4eda-ac8d-6a07d9597db5"
      },
      "source": [
        "Обучите модель и постройте графики обучения"
      ]
    },
    {
      "cell_type": "code",
      "execution_count": null,
      "id": "f7508531-309f-4e77-8c98-0c8e41005eb1",
      "metadata": {
        "id": "f7508531-309f-4e77-8c98-0c8e41005eb1",
        "outputId": "d565cb31-7c43-477c-b0aa-5835f9c6a098",
        "colab": {
          "base_uri": "https://localhost:8080/",
          "height": 305
        }
      },
      "outputs": [
        {
          "output_type": "stream",
          "name": "stderr",
          "text": [
            "Train epoch 1/50:  13%|█▉             | 10/79 [00:00<00:01, 53.94it/s, loss=2.2607, accuracy=0.1744]\n"
          ]
        },
        {
          "output_type": "error",
          "ename": "KeyboardInterrupt",
          "evalue": "",
          "traceback": [
            "\u001b[0;31m---------------------------------------------------------------------------\u001b[0m",
            "\u001b[0;31mKeyboardInterrupt\u001b[0m                         Traceback (most recent call last)",
            "\u001b[0;32m<ipython-input-111-d5834a64729a>\u001b[0m in \u001b[0;36m<cell line: 1>\u001b[0;34m()\u001b[0m\n\u001b[0;32m----> 1\u001b[0;31m \u001b[0mtrain_loss_history\u001b[0m\u001b[0;34m,\u001b[0m \u001b[0mtrain_acc_history\u001b[0m\u001b[0;34m,\u001b[0m \u001b[0mval_loss_history\u001b[0m\u001b[0;34m,\u001b[0m \u001b[0mval_acc_history\u001b[0m \u001b[0;34m=\u001b[0m \u001b[0mtrain\u001b[0m\u001b[0;34m(\u001b[0m\u001b[0mmodel\u001b[0m\u001b[0;34m,\u001b[0m \u001b[0mtrain_loader\u001b[0m\u001b[0;34m,\u001b[0m \u001b[0mval_loader\u001b[0m\u001b[0;34m,\u001b[0m \u001b[0mcriterion\u001b[0m\u001b[0;34m,\u001b[0m \u001b[0moptimizer\u001b[0m\u001b[0;34m,\u001b[0m \u001b[0mdevice\u001b[0m\u001b[0;34m,\u001b[0m \u001b[0mepochs\u001b[0m\u001b[0;34m=\u001b[0m\u001b[0mnum_epochs\u001b[0m\u001b[0;34m)\u001b[0m\u001b[0;34m\u001b[0m\u001b[0;34m\u001b[0m\u001b[0m\n\u001b[0m",
            "\u001b[0;32m<ipython-input-108-4385b41c84f4>\u001b[0m in \u001b[0;36mtrain\u001b[0;34m(model, train_loader, val_loader, criterion, optimizer, device, epochs)\u001b[0m\n\u001b[1;32m     24\u001b[0m             \u001b[0moptimizer\u001b[0m\u001b[0;34m.\u001b[0m\u001b[0mstep\u001b[0m\u001b[0;34m(\u001b[0m\u001b[0;34m)\u001b[0m\u001b[0;34m\u001b[0m\u001b[0;34m\u001b[0m\u001b[0m\n\u001b[1;32m     25\u001b[0m \u001b[0;34m\u001b[0m\u001b[0m\n\u001b[0;32m---> 26\u001b[0;31m             \u001b[0mrunning_loss\u001b[0m \u001b[0;34m+=\u001b[0m \u001b[0mloss\u001b[0m\u001b[0;34m.\u001b[0m\u001b[0mitem\u001b[0m\u001b[0;34m(\u001b[0m\u001b[0;34m)\u001b[0m\u001b[0;34m\u001b[0m\u001b[0;34m\u001b[0m\u001b[0m\n\u001b[0m\u001b[1;32m     27\u001b[0m \u001b[0;34m\u001b[0m\u001b[0m\n\u001b[1;32m     28\u001b[0m             \u001b[0;31m# Вычислите точность предсказания\u001b[0m\u001b[0;34m\u001b[0m\u001b[0;34m\u001b[0m\u001b[0m\n",
            "\u001b[0;31mKeyboardInterrupt\u001b[0m: "
          ]
        }
      ],
      "source": [
        "train_loss_history, train_acc_history, val_loss_history, val_acc_history = train(model, train_loader, val_loader, criterion, optimizer, device, epochs=num_epochs)"
      ]
    },
    {
      "cell_type": "code",
      "execution_count": null,
      "id": "08dcb17e-73b3-451c-8298-835029326057",
      "metadata": {
        "id": "08dcb17e-73b3-451c-8298-835029326057"
      },
      "outputs": [],
      "source": [
        "epochs = range(1, len(train_loss_history) + 1)\n",
        "\n",
        "# График функции потерь на тренировочных данных\n",
        "plt.figure(figsize=(12, 5))\n",
        "plt.subplot(1, 2, 1)\n",
        "plt.plot(epochs, train_loss_history, 'b', label='Train Loss')\n",
        "plt.plot(epochs, val_loss_history, 'r', label='Validation Loss')\n",
        "plt.title('Train and Validation Loss')\n",
        "plt.xlabel('Epochs')\n",
        "plt.ylabel('Loss')\n",
        "plt.legend()\n",
        "\n",
        "# График точности на валидационных данных\n",
        "plt.subplot(1, 2, 2)\n",
        "plt.plot(epochs, train_acc_history, 'b', label='Train Accuracy')\n",
        "plt.plot(epochs, val_acc_history, 'g', label='Validation Accuracy')\n",
        "plt.title('Validation Accuracy')\n",
        "plt.xlabel('Epochs')\n",
        "plt.ylabel('Accuracy')\n",
        "plt.legend()\n",
        "\n",
        "plt.tight_layout()\n",
        "plt.show()"
      ]
    },
    {
      "cell_type": "markdown",
      "id": "a195b688-6baa-4c71-bc0c-5f90d7eed6da",
      "metadata": {
        "id": "a195b688-6baa-4c71-bc0c-5f90d7eed6da"
      },
      "source": [
        "Сделайте выводы о качестве обучения"
      ]
    },
    {
      "cell_type": "markdown",
      "source": [
        "Примерно с 20-ой эпохи точность валидации перестала расти, а местами начала уменьшаться, в то время, как точность на тренеруемой выборке продолжает расти, это говорит о том, что модель мпереобучается и с этим что-то нужно делать.\n"
      ],
      "metadata": {
        "id": "N2wDHITXvwsg"
      },
      "id": "N2wDHITXvwsg"
    },
    {
      "cell_type": "markdown",
      "id": "ff061f53-e474-4cb4-b34d-45f14546c400",
      "metadata": {
        "id": "ff061f53-e474-4cb4-b34d-45f14546c400"
      },
      "source": [
        "Оцените тестовую метрику на тестовых данных"
      ]
    },
    {
      "cell_type": "code",
      "execution_count": null,
      "id": "68c54f83-e0a6-4e1c-87c7-b129028cae76",
      "metadata": {
        "id": "68c54f83-e0a6-4e1c-87c7-b129028cae76"
      },
      "outputs": [],
      "source": [
        "test_acc, test_loss = test(model, test_loader, criterion, device)\n",
        "print('Test Loss: {:.4f}\\nTest Accuracy: {:.4f}'.format(test_loss, test_acc))"
      ]
    },
    {
      "cell_type": "markdown",
      "id": "06b78b24-c338-4e42-81ce-7c120d8fd420",
      "metadata": {
        "id": "06b78b24-c338-4e42-81ce-7c120d8fd420"
      },
      "source": [
        "## Что дальше?\n",
        "Теперь, когда у вас есть все необходимое - экспериментируйте. Можете изменить все что угодно, креативность поощряется. Используйте новые модели, loss-функции, аугментацию, ансамбли, выдумывайте все, что сможете"
      ]
    },
    {
      "cell_type": "markdown",
      "id": "5c373039-62ab-441a-84bc-473d3fa726d2",
      "metadata": {
        "id": "5c373039-62ab-441a-84bc-473d3fa726d2"
      },
      "source": [
        "## Критерии оценки\n",
        "Accuracy - на тестовых данных\n",
        "- $Accuracy \\leq 0.67$ - 0 баллов\n",
        "- $0.67 < Accuracy \\leq 0.72$ - 2 балла\n",
        "- $0.72 < Accuracy \\leq 0.77$ - 4 балла\n",
        "- $0.77 < Accuracy \\leq 0.82$ - 6 баллов\n",
        "- $0.82 < Accuracy \\leq 0.87$ - 8 баллов\n",
        "- $Accuracy > 0.87$ - 10 баллов"
      ]
    },
    {
      "cell_type": "markdown",
      "source": [
        "Блок для аугментации данных"
      ],
      "metadata": {
        "id": "wSM3WUoFwSfM"
      },
      "id": "wSM3WUoFwSfM"
    },
    {
      "cell_type": "code",
      "source": [
        "transform_train = transforms.Compose([\n",
        "    # transforms.Resize(64),  # Изменение размера изображения\n",
        "    transforms.RandomHorizontalFlip(),\n",
        "    # transforms.RandomRotation(10),\n",
        "    # transforms.RandomCrop(32, padding=4),\n",
        "    # transforms.ColorJitter(brightness=0.2, contrast=0.2),\n",
        "    transforms.ToTensor(),\n",
        "    transforms.Normalize((0.5, 0.5, 0.5), (0.5, 0.5, 0.5))\n",
        "])\n",
        "\n",
        "transform_test = transforms.Compose([\n",
        "    transforms.ToTensor(),\n",
        "    transforms.Normalize((0.5, 0.5, 0.5), (0.5, 0.5, 0.5))\n",
        "])\n",
        "\n",
        "# Преобразуем картинку в torch.Tensor\n",
        "transform = transforms.ToTensor()\n",
        "\n",
        "# Загрузим датасеты для train и test\n",
        "train_dataset = torchvision.datasets.CIFAR10(root='./data', train=True, transform=transform_train, download=True)\n",
        "test_dataset = torchvision.datasets.CIFAR10(root='./data', train=False, transform=transform_test, download=True)"
      ],
      "metadata": {
        "id": "OYjxvk0GUcgq",
        "outputId": "c0f934cd-feb3-42ea-fcd7-f000e688b02c",
        "colab": {
          "base_uri": "https://localhost:8080/"
        }
      },
      "id": "OYjxvk0GUcgq",
      "execution_count": 12,
      "outputs": [
        {
          "output_type": "stream",
          "name": "stdout",
          "text": [
            "Files already downloaded and verified\n",
            "Files already downloaded and verified\n"
          ]
        }
      ]
    },
    {
      "cell_type": "code",
      "source": [
        "train_size = int(0.8 * len(train_dataset))  # 80% данных для обучения и 20% для валидации\n",
        "val_size = len(train_dataset) - train_size\n",
        "\n",
        "# Разделение на обучающий и валидационный датасеты\n",
        "train_dataset, val_dataset = train_test_split(train_dataset, test_size=val_size, random_state=42, shuffle=True)"
      ],
      "metadata": {
        "id": "_uP78UVPVA7w"
      },
      "id": "_uP78UVPVA7w",
      "execution_count": 13,
      "outputs": []
    },
    {
      "cell_type": "code",
      "source": [
        "from torchvision.transforms import GaussianBlur\n",
        "\n",
        "class AugmentationLayer(nn.Module):\n",
        "    def __init__(self):\n",
        "        super(AugmentationLayer, self).__init__()\n",
        "\n",
        "    def forward(self, x):\n",
        "        # Случайное горизонтальное отражение\n",
        "        if torch.rand(1) > 0.5:\n",
        "            x = torch.flip(x, [3])  # flip по оси ширины (вправо-влево)\n",
        "\n",
        "        # # Случайное добавление размытия\n",
        "        # if torch.rand(1) > 0.5:\n",
        "        #     kernel_size = torch.randint(low=3, high=6, size=(1,)).item()  # случайный размер ядра\n",
        "        #     if kernel_size % 2 == 0:  # проверка на четность\n",
        "        #         kernel_size += 1  # делаем нечетным\n",
        "        #     x = GaussianBlur(kernel_size=kernel_size, sigma=(0.1, 2.0))(x)\n",
        "\n",
        "        import torchvision.transforms.functional as F\n",
        "        # Случайное изменение положения (трансляция)\n",
        "        if torch.rand(1) > 0.5:\n",
        "            max_shift = 4  # максимум смещения в пикселях\n",
        "            dx = torch.randint(low=-max_shift, high=max_shift + 1, size=(1,)).item()\n",
        "            dy = torch.randint(low=-max_shift, high=max_shift + 1, size=(1,)).item()\n",
        "            x = F.affine(x, angle=0, translate=(dx, dy), scale=1.0, shear=0)\n",
        "\n",
        "        # Возвращаем аугментированное изображение\n",
        "        return x"
      ],
      "metadata": {
        "id": "8SFr-wJbVLnj"
      },
      "id": "8SFr-wJbVLnj",
      "execution_count": 14,
      "outputs": []
    },
    {
      "cell_type": "code",
      "source": [
        "class UpdatedModel(nn.Module):\n",
        "    def __init__(self, num_classes=10):\n",
        "        super(UpdatedModel, self).__init__()\n",
        "        self.augmentation_layer = AugmentationLayer()\n",
        "        self.conv1 = nn.Conv2d(3, 32, 3, padding=1)\n",
        "        self.conv2 = nn.Conv2d(32, 64, 3, padding=1)\n",
        "        self.conv3 = nn.Conv2d(64, 128, 3, padding=1)\n",
        "        self.pool = nn.MaxPool2d(2, 2)\n",
        "        self.fc1 = nn.Linear(128 * 4 * 4, 512)\n",
        "        self.fc2 = nn.Linear(512, num_classes)\n",
        "        self.dropout = nn.Dropout(0.25)\n",
        "\n",
        "    def forward(self, x):\n",
        "        x = self.augmentation_layer(x)  # Применяем аугментацию\n",
        "        x = self.pool(F.relu(self.conv1(x)))\n",
        "        x = self.pool(F.relu(self.conv2(x)))\n",
        "        x = self.pool(F.relu(self.conv3(x)))\n",
        "        x = x.view(-1, 128 * 4 * 4)\n",
        "        x = self.dropout(x)\n",
        "        x = F.relu(self.fc1(x))\n",
        "        x = self.dropout(x)\n",
        "        x = self.fc2(x)\n",
        "        return x"
      ],
      "metadata": {
        "id": "VaCRpSCgwV6K"
      },
      "id": "VaCRpSCgwV6K",
      "execution_count": 15,
      "outputs": []
    },
    {
      "cell_type": "code",
      "source": [
        "# Гиперпараметры\n",
        "learning_rate = 0.001\n",
        "num_epochs = 100\n",
        "batch_size = 512\n",
        "\n",
        "model = UpdatedModel()\n",
        "\n",
        "print('Model params: ', count_parameters(model))\n",
        "\n",
        "# Определяем функцию потерь и оптимизатор\n",
        "criterion = torch.nn.CrossEntropyLoss()\n",
        "optimizer = torch.optim.Adam(model.parameters(), lr=learning_rate)\n",
        "\n",
        "# Создание загрузчиков данных для тренировки, валидации и тестирования\n",
        "train_loader = torch.utils.data.DataLoader(train_dataset, batch_size=batch_size, shuffle=True)\n",
        "val_loader = torch.utils.data.DataLoader(val_dataset, batch_size=batch_size, shuffle=True)\n",
        "test_loader = torch.utils.data.DataLoader(test_dataset, batch_size=batch_size, shuffle=False)"
      ],
      "metadata": {
        "id": "1yUIRdlFzdPg",
        "outputId": "2a84d0f1-346d-4e9b-a723-589385cdf822",
        "colab": {
          "base_uri": "https://localhost:8080/"
        }
      },
      "id": "1yUIRdlFzdPg",
      "execution_count": 17,
      "outputs": [
        {
          "output_type": "stream",
          "name": "stdout",
          "text": [
            "Model params:  1147466\n"
          ]
        }
      ]
    },
    {
      "cell_type": "code",
      "source": [
        "train_loss_history, train_acc_history, val_loss_history, val_acc_history = train(model, train_loader, val_loader, criterion, optimizer, device, epochs=num_epochs)"
      ],
      "metadata": {
        "id": "ij23cCCozs_H",
        "outputId": "7beaf1b5-61f7-45ab-aa39-17c125a41c4c",
        "colab": {
          "base_uri": "https://localhost:8080/",
          "height": 1000
        }
      },
      "id": "ij23cCCozs_H",
      "execution_count": 18,
      "outputs": [
        {
          "output_type": "stream",
          "name": "stderr",
          "text": [
            "Train epoch 1/100: 100%|██████████████| 79/79 [01:23<00:00,  1.06s/it, loss=1.7987, accuracy=0.3400]\n",
            "Val 1/100: 100%|██████████████████████| 20/20 [00:10<00:00,  2.00it/s, loss=1.6142, accuracy=0.4186]\n",
            "Train epoch 2/100: 100%|██████████████| 79/79 [01:24<00:00,  1.07s/it, loss=1.4889, accuracy=0.4555]\n",
            "Val 2/100: 100%|██████████████████████| 20/20 [00:09<00:00,  2.01it/s, loss=1.4018, accuracy=0.4860]\n",
            "Train epoch 3/100: 100%|██████████████| 79/79 [01:23<00:00,  1.05s/it, loss=1.3465, accuracy=0.5126]\n",
            "Val 3/100: 100%|██████████████████████| 20/20 [00:09<00:00,  2.16it/s, loss=1.2865, accuracy=0.5367]\n",
            "Train epoch 4/100: 100%|██████████████| 79/79 [01:25<00:00,  1.08s/it, loss=1.2375, accuracy=0.5564]\n",
            "Val 4/100: 100%|██████████████████████| 20/20 [00:09<00:00,  2.13it/s, loss=1.2234, accuracy=0.5640]\n",
            "Train epoch 5/100: 100%|██████████████| 79/79 [01:24<00:00,  1.07s/it, loss=1.1578, accuracy=0.5878]\n",
            "Val 5/100: 100%|██████████████████████| 20/20 [00:08<00:00,  2.27it/s, loss=1.0971, accuracy=0.6117]\n",
            "Train epoch 6/100: 100%|██████████████| 79/79 [01:24<00:00,  1.06s/it, loss=1.0822, accuracy=0.6137]\n",
            "Val 6/100: 100%|██████████████████████| 20/20 [00:08<00:00,  2.25it/s, loss=1.1053, accuracy=0.6030]\n",
            "Train epoch 7/100: 100%|██████████████| 79/79 [01:24<00:00,  1.07s/it, loss=1.0180, accuracy=0.6392]\n",
            "Val 7/100: 100%|██████████████████████| 20/20 [00:09<00:00,  2.01it/s, loss=1.0531, accuracy=0.6209]\n",
            "Train epoch 8/100: 100%|██████████████| 79/79 [01:23<00:00,  1.06s/it, loss=0.9743, accuracy=0.6572]\n",
            "Val 8/100: 100%|██████████████████████| 20/20 [00:09<00:00,  2.00it/s, loss=1.0137, accuracy=0.6433]\n",
            "Train epoch 9/100: 100%|██████████████| 79/79 [01:25<00:00,  1.08s/it, loss=0.9250, accuracy=0.6714]\n",
            "Val 9/100: 100%|██████████████████████| 20/20 [00:09<00:00,  2.02it/s, loss=0.9299, accuracy=0.6686]\n",
            "Train epoch 10/100: 100%|█████████████| 79/79 [01:23<00:00,  1.05s/it, loss=0.8636, accuracy=0.6965]\n",
            "Val 10/100: 100%|█████████████████████| 20/20 [00:09<00:00,  2.13it/s, loss=0.9024, accuracy=0.6856]\n",
            "Train epoch 11/100: 100%|█████████████| 79/79 [01:24<00:00,  1.08s/it, loss=0.8681, accuracy=0.6958]\n",
            "Val 11/100: 100%|█████████████████████| 20/20 [00:08<00:00,  2.29it/s, loss=0.9425, accuracy=0.6672]\n",
            "Train epoch 12/100: 100%|█████████████| 79/79 [01:23<00:00,  1.05s/it, loss=0.8249, accuracy=0.7111]\n",
            "Val 12/100: 100%|█████████████████████| 20/20 [00:09<00:00,  2.08it/s, loss=0.8865, accuracy=0.6881]\n",
            "Train epoch 13/100: 100%|█████████████| 79/79 [01:23<00:00,  1.05s/it, loss=0.8212, accuracy=0.7091]\n",
            "Val 13/100: 100%|█████████████████████| 20/20 [00:09<00:00,  2.02it/s, loss=0.8521, accuracy=0.6988]\n",
            "Train epoch 14/100: 100%|█████████████| 79/79 [01:24<00:00,  1.06s/it, loss=0.7760, accuracy=0.7288]\n",
            "Val 14/100: 100%|█████████████████████| 20/20 [00:09<00:00,  2.03it/s, loss=0.9083, accuracy=0.6880]\n",
            "Train epoch 15/100: 100%|█████████████| 79/79 [01:22<00:00,  1.05s/it, loss=0.7590, accuracy=0.7344]\n",
            "Val 15/100: 100%|█████████████████████| 20/20 [00:09<00:00,  2.02it/s, loss=0.8140, accuracy=0.7186]\n",
            "Train epoch 16/100: 100%|█████████████| 79/79 [01:23<00:00,  1.06s/it, loss=0.7445, accuracy=0.7375]\n",
            "Val 16/100: 100%|█████████████████████| 20/20 [00:09<00:00,  2.11it/s, loss=0.7756, accuracy=0.7288]\n",
            "Train epoch 17/100: 100%|█████████████| 79/79 [01:23<00:00,  1.05s/it, loss=0.7221, accuracy=0.7480]\n",
            "Val 17/100: 100%|█████████████████████| 20/20 [00:08<00:00,  2.30it/s, loss=0.8152, accuracy=0.7185]\n",
            "Train epoch 18/100: 100%|█████████████| 79/79 [01:23<00:00,  1.06s/it, loss=0.7159, accuracy=0.7473]\n",
            "Val 18/100: 100%|█████████████████████| 20/20 [00:10<00:00,  1.99it/s, loss=0.7531, accuracy=0.7393]\n",
            "Train epoch 19/100: 100%|█████████████| 79/79 [01:23<00:00,  1.06s/it, loss=0.6666, accuracy=0.7640]\n",
            "Val 19/100: 100%|█████████████████████| 20/20 [00:09<00:00,  2.17it/s, loss=0.7838, accuracy=0.7303]\n",
            "Train epoch 20/100: 100%|█████████████| 79/79 [01:22<00:00,  1.05s/it, loss=0.6912, accuracy=0.7569]\n",
            "Val 20/100: 100%|█████████████████████| 20/20 [00:09<00:00,  2.02it/s, loss=0.7512, accuracy=0.7384]\n",
            "Train epoch 21/100: 100%|█████████████| 79/79 [01:24<00:00,  1.07s/it, loss=0.6240, accuracy=0.7806]\n",
            "Val 21/100: 100%|█████████████████████| 20/20 [00:09<00:00,  2.01it/s, loss=0.7808, accuracy=0.7261]\n",
            "Train epoch 22/100: 100%|█████████████| 79/79 [01:23<00:00,  1.05s/it, loss=0.6327, accuracy=0.7781]\n",
            "Val 22/100: 100%|█████████████████████| 20/20 [00:09<00:00,  2.03it/s, loss=0.7430, accuracy=0.7398]\n",
            "Train epoch 23/100: 100%|█████████████| 79/79 [01:24<00:00,  1.07s/it, loss=0.6318, accuracy=0.7759]\n",
            "Val 23/100: 100%|█████████████████████| 20/20 [00:09<00:00,  2.03it/s, loss=0.7471, accuracy=0.7439]\n",
            "Train epoch 24/100: 100%|█████████████| 79/79 [01:22<00:00,  1.05s/it, loss=0.6283, accuracy=0.7784]\n",
            "Val 24/100: 100%|█████████████████████| 20/20 [00:09<00:00,  2.02it/s, loss=0.7967, accuracy=0.7244]\n",
            "Train epoch 25/100:  80%|██████████▎  | 63/79 [01:08<00:17,  1.08s/it, loss=0.6053, accuracy=0.7882]\n"
          ]
        },
        {
          "output_type": "error",
          "ename": "KeyboardInterrupt",
          "evalue": "",
          "traceback": [
            "\u001b[0;31m---------------------------------------------------------------------------\u001b[0m",
            "\u001b[0;31mKeyboardInterrupt\u001b[0m                         Traceback (most recent call last)",
            "\u001b[0;32m<ipython-input-18-d5834a64729a>\u001b[0m in \u001b[0;36m<cell line: 1>\u001b[0;34m()\u001b[0m\n\u001b[0;32m----> 1\u001b[0;31m \u001b[0mtrain_loss_history\u001b[0m\u001b[0;34m,\u001b[0m \u001b[0mtrain_acc_history\u001b[0m\u001b[0;34m,\u001b[0m \u001b[0mval_loss_history\u001b[0m\u001b[0;34m,\u001b[0m \u001b[0mval_acc_history\u001b[0m \u001b[0;34m=\u001b[0m \u001b[0mtrain\u001b[0m\u001b[0;34m(\u001b[0m\u001b[0mmodel\u001b[0m\u001b[0;34m,\u001b[0m \u001b[0mtrain_loader\u001b[0m\u001b[0;34m,\u001b[0m \u001b[0mval_loader\u001b[0m\u001b[0;34m,\u001b[0m \u001b[0mcriterion\u001b[0m\u001b[0;34m,\u001b[0m \u001b[0moptimizer\u001b[0m\u001b[0;34m,\u001b[0m \u001b[0mdevice\u001b[0m\u001b[0;34m,\u001b[0m \u001b[0mepochs\u001b[0m\u001b[0;34m=\u001b[0m\u001b[0mnum_epochs\u001b[0m\u001b[0;34m)\u001b[0m\u001b[0;34m\u001b[0m\u001b[0;34m\u001b[0m\u001b[0m\n\u001b[0m",
            "\u001b[0;32m<ipython-input-11-b2a2470d8a7b>\u001b[0m in \u001b[0;36mtrain\u001b[0;34m(model, train_loader, val_loader, criterion, optimizer, device, epochs)\u001b[0m\n\u001b[1;32m     20\u001b[0m \u001b[0;34m\u001b[0m\u001b[0m\n\u001b[1;32m     21\u001b[0m             \u001b[0;31m# Сделайте обратный проход\u001b[0m\u001b[0;34m\u001b[0m\u001b[0;34m\u001b[0m\u001b[0m\n\u001b[0;32m---> 22\u001b[0;31m             \u001b[0mloss\u001b[0m\u001b[0;34m.\u001b[0m\u001b[0mbackward\u001b[0m\u001b[0;34m(\u001b[0m\u001b[0;34m)\u001b[0m\u001b[0;34m\u001b[0m\u001b[0;34m\u001b[0m\u001b[0m\n\u001b[0m\u001b[1;32m     23\u001b[0m             \u001b[0;31m# Сделайте шаг оптимизации\u001b[0m\u001b[0;34m\u001b[0m\u001b[0;34m\u001b[0m\u001b[0m\n\u001b[1;32m     24\u001b[0m             \u001b[0moptimizer\u001b[0m\u001b[0;34m.\u001b[0m\u001b[0mstep\u001b[0m\u001b[0;34m(\u001b[0m\u001b[0;34m)\u001b[0m\u001b[0;34m\u001b[0m\u001b[0;34m\u001b[0m\u001b[0m\n",
            "\u001b[0;32m/usr/local/lib/python3.10/dist-packages/torch/_tensor.py\u001b[0m in \u001b[0;36mbackward\u001b[0;34m(self, gradient, retain_graph, create_graph, inputs)\u001b[0m\n\u001b[1;32m    579\u001b[0m                 \u001b[0minputs\u001b[0m\u001b[0;34m=\u001b[0m\u001b[0minputs\u001b[0m\u001b[0;34m,\u001b[0m\u001b[0;34m\u001b[0m\u001b[0;34m\u001b[0m\u001b[0m\n\u001b[1;32m    580\u001b[0m             )\n\u001b[0;32m--> 581\u001b[0;31m         torch.autograd.backward(\n\u001b[0m\u001b[1;32m    582\u001b[0m             \u001b[0mself\u001b[0m\u001b[0;34m,\u001b[0m \u001b[0mgradient\u001b[0m\u001b[0;34m,\u001b[0m \u001b[0mretain_graph\u001b[0m\u001b[0;34m,\u001b[0m \u001b[0mcreate_graph\u001b[0m\u001b[0;34m,\u001b[0m \u001b[0minputs\u001b[0m\u001b[0;34m=\u001b[0m\u001b[0minputs\u001b[0m\u001b[0;34m\u001b[0m\u001b[0;34m\u001b[0m\u001b[0m\n\u001b[1;32m    583\u001b[0m         )\n",
            "\u001b[0;32m/usr/local/lib/python3.10/dist-packages/torch/autograd/__init__.py\u001b[0m in \u001b[0;36mbackward\u001b[0;34m(tensors, grad_tensors, retain_graph, create_graph, grad_variables, inputs)\u001b[0m\n\u001b[1;32m    345\u001b[0m     \u001b[0;31m# some Python versions print out the first line of a multi-line function\u001b[0m\u001b[0;34m\u001b[0m\u001b[0;34m\u001b[0m\u001b[0m\n\u001b[1;32m    346\u001b[0m     \u001b[0;31m# calls in the traceback and some print out the last line\u001b[0m\u001b[0;34m\u001b[0m\u001b[0;34m\u001b[0m\u001b[0m\n\u001b[0;32m--> 347\u001b[0;31m     _engine_run_backward(\n\u001b[0m\u001b[1;32m    348\u001b[0m         \u001b[0mtensors\u001b[0m\u001b[0;34m,\u001b[0m\u001b[0;34m\u001b[0m\u001b[0;34m\u001b[0m\u001b[0m\n\u001b[1;32m    349\u001b[0m         \u001b[0mgrad_tensors_\u001b[0m\u001b[0;34m,\u001b[0m\u001b[0;34m\u001b[0m\u001b[0;34m\u001b[0m\u001b[0m\n",
            "\u001b[0;32m/usr/local/lib/python3.10/dist-packages/torch/autograd/graph.py\u001b[0m in \u001b[0;36m_engine_run_backward\u001b[0;34m(t_outputs, *args, **kwargs)\u001b[0m\n\u001b[1;32m    823\u001b[0m         \u001b[0munregister_hooks\u001b[0m \u001b[0;34m=\u001b[0m \u001b[0m_register_logging_hooks_on_whole_graph\u001b[0m\u001b[0;34m(\u001b[0m\u001b[0mt_outputs\u001b[0m\u001b[0;34m)\u001b[0m\u001b[0;34m\u001b[0m\u001b[0;34m\u001b[0m\u001b[0m\n\u001b[1;32m    824\u001b[0m     \u001b[0;32mtry\u001b[0m\u001b[0;34m:\u001b[0m\u001b[0;34m\u001b[0m\u001b[0;34m\u001b[0m\u001b[0m\n\u001b[0;32m--> 825\u001b[0;31m         return Variable._execution_engine.run_backward(  # Calls into the C++ engine to run the backward pass\n\u001b[0m\u001b[1;32m    826\u001b[0m             \u001b[0mt_outputs\u001b[0m\u001b[0;34m,\u001b[0m \u001b[0;34m*\u001b[0m\u001b[0margs\u001b[0m\u001b[0;34m,\u001b[0m \u001b[0;34m**\u001b[0m\u001b[0mkwargs\u001b[0m\u001b[0;34m\u001b[0m\u001b[0;34m\u001b[0m\u001b[0m\n\u001b[1;32m    827\u001b[0m         )  # Calls into the C++ engine to run the backward pass\n",
            "\u001b[0;31mKeyboardInterrupt\u001b[0m: "
          ]
        }
      ]
    },
    {
      "cell_type": "code",
      "source": [
        "epochs = range(1, len(train_loss_history) + 1)\n",
        "\n",
        "# График функции потерь на тренировочных данных\n",
        "plt.figure(figsize=(12, 5))\n",
        "plt.subplot(1, 2, 1)\n",
        "plt.plot(epochs, train_loss_history, 'b', label='Train Loss')\n",
        "plt.plot(epochs, val_loss_history, 'r', label='Validation Loss')\n",
        "plt.title('Train and Validation Loss')\n",
        "plt.xlabel('Epochs')\n",
        "plt.ylabel('Loss')\n",
        "plt.legend()\n",
        "\n",
        "# График точности на валидационных данных\n",
        "plt.subplot(1, 2, 2)\n",
        "plt.plot(epochs, train_acc_history, 'b', label='Train Accuracy')\n",
        "plt.plot(epochs, val_acc_history, 'g', label='Validation Accuracy')\n",
        "plt.title('Validation Accuracy')\n",
        "plt.xlabel('Epochs')\n",
        "plt.ylabel('Accuracy')\n",
        "plt.legend()\n",
        "\n",
        "plt.tight_layout()\n",
        "plt.show()"
      ],
      "metadata": {
        "id": "Cb9UcC0z1HFi",
        "outputId": "47f9620b-39e5-44b4-bcb0-a778f4d93d3c",
        "colab": {
          "base_uri": "https://localhost:8080/",
          "height": 229
        }
      },
      "id": "Cb9UcC0z1HFi",
      "execution_count": 19,
      "outputs": [
        {
          "output_type": "error",
          "ename": "NameError",
          "evalue": "name 'train_loss_history' is not defined",
          "traceback": [
            "\u001b[0;31m---------------------------------------------------------------------------\u001b[0m",
            "\u001b[0;31mNameError\u001b[0m                                 Traceback (most recent call last)",
            "\u001b[0;32m<ipython-input-19-880823ed8671>\u001b[0m in \u001b[0;36m<cell line: 1>\u001b[0;34m()\u001b[0m\n\u001b[0;32m----> 1\u001b[0;31m \u001b[0mepochs\u001b[0m \u001b[0;34m=\u001b[0m \u001b[0mrange\u001b[0m\u001b[0;34m(\u001b[0m\u001b[0;36m1\u001b[0m\u001b[0;34m,\u001b[0m \u001b[0mlen\u001b[0m\u001b[0;34m(\u001b[0m\u001b[0mtrain_loss_history\u001b[0m\u001b[0;34m)\u001b[0m \u001b[0;34m+\u001b[0m \u001b[0;36m1\u001b[0m\u001b[0;34m)\u001b[0m\u001b[0;34m\u001b[0m\u001b[0;34m\u001b[0m\u001b[0m\n\u001b[0m\u001b[1;32m      2\u001b[0m \u001b[0;34m\u001b[0m\u001b[0m\n\u001b[1;32m      3\u001b[0m \u001b[0;31m# График функции потерь на тренировочных данных\u001b[0m\u001b[0;34m\u001b[0m\u001b[0;34m\u001b[0m\u001b[0m\n\u001b[1;32m      4\u001b[0m \u001b[0mplt\u001b[0m\u001b[0;34m.\u001b[0m\u001b[0mfigure\u001b[0m\u001b[0;34m(\u001b[0m\u001b[0mfigsize\u001b[0m\u001b[0;34m=\u001b[0m\u001b[0;34m(\u001b[0m\u001b[0;36m12\u001b[0m\u001b[0;34m,\u001b[0m \u001b[0;36m5\u001b[0m\u001b[0;34m)\u001b[0m\u001b[0;34m)\u001b[0m\u001b[0;34m\u001b[0m\u001b[0;34m\u001b[0m\u001b[0m\n\u001b[1;32m      5\u001b[0m \u001b[0mplt\u001b[0m\u001b[0;34m.\u001b[0m\u001b[0msubplot\u001b[0m\u001b[0;34m(\u001b[0m\u001b[0;36m1\u001b[0m\u001b[0;34m,\u001b[0m \u001b[0;36m2\u001b[0m\u001b[0;34m,\u001b[0m \u001b[0;36m1\u001b[0m\u001b[0;34m)\u001b[0m\u001b[0;34m\u001b[0m\u001b[0;34m\u001b[0m\u001b[0m\n",
            "\u001b[0;31mNameError\u001b[0m: name 'train_loss_history' is not defined"
          ]
        }
      ]
    },
    {
      "cell_type": "code",
      "source": [
        "test_acc, test_loss = test(model, test_loader, criterion, device)\n",
        "print('Test Loss: {:.4f}\\nTest Accuracy: {:.4f}'.format(test_loss, test_acc))"
      ],
      "metadata": {
        "id": "W0FjAcwn1MPh",
        "outputId": "02fd945f-237f-4845-f456-5b344fb47697",
        "colab": {
          "base_uri": "https://localhost:8080/"
        }
      },
      "id": "W0FjAcwn1MPh",
      "execution_count": null,
      "outputs": [
        {
          "output_type": "stream",
          "name": "stdout",
          "text": [
            "Test Loss: 0.8702\n",
            "Test Accuracy: 0.7572\n"
          ]
        }
      ]
    }
  ],
  "metadata": {
    "kernelspec": {
      "display_name": "Python 3",
      "name": "python3"
    },
    "language_info": {
      "codemirror_mode": {
        "name": "ipython",
        "version": 3
      },
      "file_extension": ".py",
      "mimetype": "text/x-python",
      "name": "python",
      "nbconvert_exporter": "python",
      "pygments_lexer": "ipython3",
      "version": "3.9.7"
    },
    "colab": {
      "provenance": [],
      "gpuType": "T4"
    },
    "accelerator": "GPU"
  },
  "nbformat": 4,
  "nbformat_minor": 5
}