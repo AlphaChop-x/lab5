{
  "cells": [
    {
      "cell_type": "markdown",
      "id": "cfa87c9f-dd5d-4cf7-a9f4-50de4b36ce40",
      "metadata": {
        "id": "cfa87c9f-dd5d-4cf7-a9f4-50de4b36ce40"
      },
      "source": [
        "## Классификация изображений\n",
        "### Вводные слова\n",
        "Задача классификации изображений - это одна из ключевых задач в области компьютерного зрения и машинного обучения. Она заключается в том, чтобы разработать модель, способную автоматически определить, к какому классу или категории принадлежит данное изображение. Классификация используется в следующих задачах: классификация спектрограмм музыкальных записей для выявления предпочтений конкретного пользователя, классификация изображений для автоматической идентификации людей на фотографиях, кластеризация покупок пользователя в интернет-магазине для формирования целевой рекламы, и так далее\n",
        "### Рекомендации\n",
        "Работу лучше выполнять в среде Google Colab, поскольку потребуется осуществлять вычисления на видеокарте. В Colab в меню нажмите на Изменить->Настройки блокнота и выберите доступный GPU. Это позволит использовать для обучения CUDA\n",
        "### Цель работы и задачи\n",
        "В данной работе мы разработаем модель, для предсказания класса на датасете cifar-10. Ниже будет представлена baseline модель, основываясь на которой вы можете строить свою модель для классификации\n",
        "\\\n",
        "Задачи, которые вам нужно решить в работе:\n",
        "\\\n",
        "Обязательные:\n",
        "- Построить распределение классов в данных\n",
        "- Подготовить данные и обучить baseline-модель на датасете\n",
        "- Оценить качество модели\n",
        "- Написать свою модель и обучить ее\n",
        "\n",
        "Желательные:\n",
        "- Подумать об архитектуре модели, быть может стоит сделать ее глубже, добавить боковые связи и т.д.\n",
        "- Задуматься об аугментации\n",
        "- Попробовать transfer-learning\n",
        "\n",
        "\\\n",
        "\\\n",
        "Ваша работа будет оцениваться исходя из 2 факторов:\n",
        "- контрольная метрика\n",
        "- протокол исследования, которым и будет служить этот Jupyter-Notebook\n",
        "\n",
        "\\\n",
        "Максимальный балл за работу - 20.\n",
        "\\\n",
        "Удачи!"
      ]
    },
    {
      "cell_type": "markdown",
      "id": "f7e69704-f4ce-4b25-98ce-5e98630a389d",
      "metadata": {
        "id": "f7e69704-f4ce-4b25-98ce-5e98630a389d"
      },
      "source": [
        "## Baseline-модель"
      ]
    },
    {
      "cell_type": "code",
      "execution_count": 1,
      "id": "e06b4054-5e95-4ce5-96b0-e0817d64e809",
      "metadata": {
        "id": "e06b4054-5e95-4ce5-96b0-e0817d64e809"
      },
      "outputs": [],
      "source": [
        "import torch\n",
        "from tqdm import tqdm\n",
        "import torch.nn as nn\n",
        "import torch.optim as optim\n",
        "import torchvision\n",
        "import torchvision.transforms as transforms\n",
        "import matplotlib.pyplot as plt\n",
        "import numpy as np\n",
        "from sklearn.model_selection import train_test_split\n",
        "from torch.functional import F"
      ]
    },
    {
      "cell_type": "markdown",
      "id": "cbb6abc6-ee2d-408a-8521-11c9602e63ce",
      "metadata": {
        "id": "cbb6abc6-ee2d-408a-8521-11c9602e63ce"
      },
      "source": [
        "Обучать мы будем, разумеется, на cuda, поэтому, создадим переменную device, которая будет зависеть от того, доступна ли видеокарта для вычислений"
      ]
    },
    {
      "cell_type": "code",
      "execution_count": 2,
      "id": "17f8d12f-a0c3-44e7-912f-59485c4146c7",
      "metadata": {
        "id": "17f8d12f-a0c3-44e7-912f-59485c4146c7",
        "outputId": "1227d09e-bd85-4f54-f8c3-e3f57b4709f8",
        "colab": {
          "base_uri": "https://localhost:8080/"
        }
      },
      "outputs": [
        {
          "output_type": "stream",
          "name": "stdout",
          "text": [
            "Running on cuda\n"
          ]
        }
      ],
      "source": [
        "device = torch.device('cuda') if torch.cuda.is_available() else torch.device('cpu')\n",
        "print(f'Running on {device}')\n",
        "\n",
        "# Функция для подсчета числа параметров\n",
        "def count_parameters(model):\n",
        "    return sum(p.numel() for p in model.parameters() if p.requires_grad)"
      ]
    },
    {
      "cell_type": "code",
      "execution_count": null,
      "id": "76fc0bb5-d955-4516-a47d-16b29c29a0af",
      "metadata": {
        "id": "76fc0bb5-d955-4516-a47d-16b29c29a0af"
      },
      "outputs": [],
      "source": [
        "class Baseline(nn.Module):\n",
        "    def __init__(self, num_classes=10):\n",
        "        super(Baseline, self).__init__()\n",
        "        # Сверточные слои\n",
        "        self.conv1 = nn.Conv2d(in_channels=3, out_channels=16, kernel_size=3, padding=1)\n",
        "        self.conv2 = nn.Conv2d(in_channels=16, out_channels=32, kernel_size=3, padding=1)\n",
        "        # Полносвязные слои\n",
        "        self.fc1 = nn.Linear(in_features=32 * 8 * 8, out_features=128)\n",
        "        self.fc2 = nn.Linear(in_features=128, out_features=num_classes)\n",
        "\n",
        "    def forward(self, x):\n",
        "        # Прямой проход через сверточные слои\n",
        "        x = torch.relu(self.conv1(x))\n",
        "        x = torch.max_pool2d(x, kernel_size=2, stride=2)\n",
        "        x = torch.relu(self.conv2(x))\n",
        "        x = torch.max_pool2d(x, kernel_size=2, stride=2)\n",
        "\n",
        "        # Вытягивание в одномерный вектор\n",
        "        x = x.view(x.size(0), -1)\n",
        "\n",
        "        # Прямой проход через полносвязные слои\n",
        "        x = torch.relu(self.fc1(x))\n",
        "        x = self.fc2(x)\n",
        "\n",
        "        return x"
      ]
    },
    {
      "cell_type": "markdown",
      "id": "66a75636-3a12-42d0-a050-51b79b9b76ba",
      "metadata": {
        "id": "66a75636-3a12-42d0-a050-51b79b9b76ba"
      },
      "source": [
        "Загрузим данные, построим диаграммы для распределения классов и посмотрим на сами картинки"
      ]
    },
    {
      "cell_type": "code",
      "execution_count": null,
      "id": "552abcaa-ae9a-4f77-a0b7-05311057d3cb",
      "metadata": {
        "id": "552abcaa-ae9a-4f77-a0b7-05311057d3cb",
        "outputId": "42d8fb43-aee6-4b30-c1f8-72ae682a3e88",
        "colab": {
          "base_uri": "https://localhost:8080/",
          "height": 229
        }
      },
      "outputs": [
        {
          "output_type": "error",
          "ename": "NameError",
          "evalue": "name 'transforms' is not defined",
          "traceback": [
            "\u001b[0;31m---------------------------------------------------------------------------\u001b[0m",
            "\u001b[0;31mNameError\u001b[0m                                 Traceback (most recent call last)",
            "\u001b[0;32m<ipython-input-2-2f54caffc744>\u001b[0m in \u001b[0;36m<cell line: 2>\u001b[0;34m()\u001b[0m\n\u001b[1;32m      1\u001b[0m \u001b[0;31m# Будем превращать картинку в torch.Tensor\u001b[0m\u001b[0;34m\u001b[0m\u001b[0;34m\u001b[0m\u001b[0m\n\u001b[0;32m----> 2\u001b[0;31m \u001b[0mtransform\u001b[0m \u001b[0;34m=\u001b[0m \u001b[0mtransforms\u001b[0m\u001b[0;34m.\u001b[0m\u001b[0mToTensor\u001b[0m\u001b[0;34m(\u001b[0m\u001b[0;34m)\u001b[0m\u001b[0;34m\u001b[0m\u001b[0;34m\u001b[0m\u001b[0m\n\u001b[0m\u001b[1;32m      3\u001b[0m \u001b[0;34m\u001b[0m\u001b[0m\n\u001b[1;32m      4\u001b[0m \u001b[0;31m# Загрузим датасеты для train и test\u001b[0m\u001b[0;34m\u001b[0m\u001b[0;34m\u001b[0m\u001b[0m\n\u001b[1;32m      5\u001b[0m \u001b[0mtrain_dataset\u001b[0m \u001b[0;34m=\u001b[0m \u001b[0mtorchvision\u001b[0m\u001b[0;34m.\u001b[0m\u001b[0mdatasets\u001b[0m\u001b[0;34m.\u001b[0m\u001b[0mCIFAR10\u001b[0m\u001b[0;34m(\u001b[0m\u001b[0mroot\u001b[0m\u001b[0;34m=\u001b[0m\u001b[0;34m'./data'\u001b[0m\u001b[0;34m,\u001b[0m \u001b[0mtrain\u001b[0m\u001b[0;34m=\u001b[0m\u001b[0;32mTrue\u001b[0m\u001b[0;34m,\u001b[0m \u001b[0mtransform\u001b[0m\u001b[0;34m=\u001b[0m\u001b[0mtransform\u001b[0m\u001b[0;34m,\u001b[0m \u001b[0mdownload\u001b[0m\u001b[0;34m=\u001b[0m\u001b[0;32mTrue\u001b[0m\u001b[0;34m)\u001b[0m\u001b[0;34m\u001b[0m\u001b[0;34m\u001b[0m\u001b[0m\n",
            "\u001b[0;31mNameError\u001b[0m: name 'transforms' is not defined"
          ]
        }
      ],
      "source": [
        "# Будем превращать картинку в torch.Tensor\n",
        "transform = transforms.ToTensor()\n",
        "\n",
        "# Загрузим датасеты для train и test\n",
        "train_dataset = torchvision.datasets.CIFAR10(root='./data', train=True, transform=transform, download=True)\n",
        "test_dataset = torchvision.datasets.CIFAR10(root='./data', train=False, transform=transform, download=True)\n",
        "\n",
        "# Получим метки классов\n",
        "class_labels = train_dataset.classes\n",
        "class_counts = np.array([0] * len(class_labels))\n",
        "\n",
        "# Посчитаем число меток классов\n",
        "for _, label in train_dataset:\n",
        "    class_counts[label] += 1\n",
        "\n",
        "class_counts = class_counts / class_counts.sum() * 100\n",
        "\n",
        "# Построим диаграмму\n",
        "plt.figure(figsize=(10, 8))\n",
        "plt.bar(class_labels, class_counts)\n",
        "plt.xlabel('Классы')\n",
        "plt.ylabel('Количество изображений, %')\n",
        "plt.title('Распределение классов в датасете CIFAR-10')\n",
        "plt.xticks(rotation=45)\n",
        "plt.tight_layout()\n",
        "plt.show()"
      ]
    },
    {
      "cell_type": "code",
      "execution_count": null,
      "id": "f4505ddd-6bdb-42eb-9d83-c78091a824b4",
      "metadata": {
        "id": "f4505ddd-6bdb-42eb-9d83-c78091a824b4",
        "outputId": "d830bf3b-7a1e-49b5-b570-7282d8bb100b",
        "colab": {
          "base_uri": "https://localhost:8080/",
          "height": 675
        }
      },
      "outputs": [
        {
          "output_type": "display_data",
          "data": {
            "text/plain": [
              "<Figure size 800x800 with 9 Axes>"
            ],
            "image/png": "[encoded data removed]"
          },
          "metadata": {}
        }
      ],
      "source": [
        "indices = np.random.choice(len(train_dataset), 9, replace=False)\n",
        "\n",
        "# Создайте сетку 3x3 для отображения изображений\n",
        "fig, axes = plt.subplots(3, 3, figsize=(8, 8))\n",
        "for i, ax in enumerate(axes.flat):\n",
        "    image, label = train_dataset[indices[i]]\n",
        "    image = image.numpy().transpose((1, 2, 0))  # Перевести изображение из формата (C, H, W) в (H, W, C)\n",
        "    ax.imshow(image)\n",
        "    ax.set_title(f'Label: {class_labels[label]}')\n",
        "    ax.axis('off')\n",
        "\n",
        "plt.show()"
      ]
    },
    {
      "cell_type": "markdown",
      "id": "2d176f3c-b153-4ed8-8963-b268f7b5972f",
      "metadata": {
        "id": "2d176f3c-b153-4ed8-8963-b268f7b5972f"
      },
      "source": [
        "Сделайте вывод о сбалансированности датасета:\n",
        "\\\n",
        "Исходя из этого, какие метрики будем применять для оценки качества модели?"
      ]
    },
    {
      "cell_type": "markdown",
      "source": [
        "Датасет можно назвать сбалансированным, потому что в него входит 10 классов, по 6 тыс. изображений в каждом и они распределены равномерно, исходя из гистограммы выше\n",
        "\n",
        "Т.к датасет имеет сбалансированное распределение, для оценки качества модели можно использовать такие стандартные метрики как: Accuracy и Cross-Entropy Loss"
      ],
      "metadata": {
        "id": "vRw3piQFqHJl"
      },
      "id": "vRw3piQFqHJl"
    },
    {
      "cell_type": "markdown",
      "id": "f411c3aa-4894-40f4-9f2e-5cab17405d05",
      "metadata": {
        "id": "f411c3aa-4894-40f4-9f2e-5cab17405d05"
      },
      "source": [
        "Напишем функции train и test"
      ]
    },
    {
      "cell_type": "code",
      "execution_count": 9,
      "id": "85dd72a1-ff5a-493e-be70-da9af9efcc22",
      "metadata": {
        "id": "85dd72a1-ff5a-493e-be70-da9af9efcc22"
      },
      "outputs": [],
      "source": [
        "def train(model, train_loader, val_loader, criterion, optimizer, device, epochs=10):\n",
        "    model.train()\n",
        "    model = model.to(device)\n",
        "    train_loss_history = []\n",
        "    train_acc_history = []\n",
        "    val_loss_history = []\n",
        "    val_acc_history = []\n",
        "    for epoch in range(epochs):\n",
        "        running_loss = 0.0\n",
        "        correct = 0\n",
        "        total = 0\n",
        "        pbar = tqdm(enumerate(train_loader), total=len(train_loader), ncols=100, desc='Train epoch {}/{}'.format(epoch + 1, epochs))\n",
        "        for batch_idx, (inputs, labels) in pbar:\n",
        "            inputs, labels = inputs.to(device), labels.to(device)\n",
        "            # Занулите градиенты оптимизатора\n",
        "            optimizer.zero_grad()\n",
        "            # Прямой проход\n",
        "            outputs = model(inputs)\n",
        "            loss = criterion(outputs, labels)\n",
        "\n",
        "            # Сделайте обратный проход\n",
        "            loss.backward()\n",
        "            # Сделайте шаг оптимизации\n",
        "            optimizer.step()\n",
        "\n",
        "            running_loss += loss.item()\n",
        "\n",
        "            # Вычислите точность предсказания\n",
        "            _, predicted = torch.max(outputs.data, 1)\n",
        "            total += labels.size(0)\n",
        "            correct += (predicted == labels).sum().item()\n",
        "            pbar.set_postfix({'loss': '{:.4f}'.format(running_loss / (batch_idx + 1)), 'accuracy': '{:.4f}'.format(correct / total)})\n",
        "\n",
        "        train_loss_history.append(running_loss / len(train_loader))\n",
        "        train_acc_history.append(correct / total)\n",
        "        correct = 0\n",
        "        total = 0\n",
        "        test_loss = 0.0\n",
        "        pbar = tqdm(enumerate(val_loader), total=len(val_loader), ncols=100, desc='Val {}/{}'.format(epoch + 1, epochs))\n",
        "        with torch.no_grad():\n",
        "            for batch_idx, (inputs, labels) in pbar:\n",
        "                inputs, labels = inputs.to(device), labels.to(device)\n",
        "                outputs = model(inputs)\n",
        "                loss = criterion(outputs, labels)\n",
        "                test_loss += loss.item()\n",
        "                _, predicted = torch.max(outputs.data, 1)\n",
        "                total += labels.size(0)\n",
        "                correct += (predicted == labels).sum().item()\n",
        "                pbar.set_postfix({'loss': '{:.4f}'.format(test_loss / (batch_idx + 1)), 'accuracy': '{:.4f}'.format(correct / total)})\n",
        "\n",
        "        val_loss_history.append(test_loss / len(val_loader))\n",
        "        val_acc_history.append(correct / total)\n",
        "\n",
        "    return train_loss_history, train_acc_history, val_loss_history, val_acc_history\n",
        "\n",
        "def test(model, test_loader, criterion, device):\n",
        "    model.eval()\n",
        "    correct = 0\n",
        "    total = 0\n",
        "    test_loss = 0.0\n",
        "    with torch.no_grad():\n",
        "        for inputs, labels in test_loader:\n",
        "            inputs, labels = inputs.to(device), labels.to(device)\n",
        "            outputs = model(inputs)\n",
        "            loss = criterion(outputs, labels)\n",
        "            test_loss += loss.item()\n",
        "            _, predicted = torch.max(outputs.data, 1)\n",
        "            total += labels.size(0)\n",
        "            correct += (predicted == labels).sum().item()\n",
        "\n",
        "    accuracy = correct / total\n",
        "    average_loss = test_loss / len(test_loader)\n",
        "\n",
        "    return accuracy, average_loss"
      ]
    },
    {
      "cell_type": "markdown",
      "id": "1aba5730-5f22-4715-b181-5d3878fa12bc",
      "metadata": {
        "id": "1aba5730-5f22-4715-b181-5d3878fa12bc"
      },
      "source": [
        "Сделайте разделение на train и val\n",
        "\\\n",
        "Зачем так делать?"
      ]
    },
    {
      "cell_type": "markdown",
      "source": [
        "Разделение на Train и Val необходимо для того, чтобы оценить как модель работает с незнакомыми ей данными"
      ],
      "metadata": {
        "id": "Y7feBrbhtxNz"
      },
      "id": "Y7feBrbhtxNz"
    },
    {
      "cell_type": "code",
      "execution_count": null,
      "id": "e53ab630-8224-4d2f-9d02-79ab163d3fd1",
      "metadata": {
        "id": "e53ab630-8224-4d2f-9d02-79ab163d3fd1"
      },
      "outputs": [],
      "source": [
        "train_size = int(0.8 * len(train_dataset)) #80% данные для обучения, остальные 20% - для валидации\n",
        "val_size = len(train_dataset) - train_size\n",
        "#разделение на обучающий и валидационный датасеты\n",
        "train_dataset, val_dataset = train_test_split(train_dataset, test_size=val_size, random_state=42, shuffle=True)"
      ]
    },
    {
      "cell_type": "markdown",
      "id": "d0108c36-a287-410a-a4db-ec018503f113",
      "metadata": {
        "id": "d0108c36-a287-410a-a4db-ec018503f113"
      },
      "source": [
        "Создайте Dataloader'ы и настройте гиперпараметры, оптимизатор и функцию потерь\n",
        "\\\n",
        "Какой оптимизатор будете использовать и почему, а какую loss-функцию?"
      ]
    },
    {
      "cell_type": "markdown",
      "source": [
        "Мы используем оптимизатор адам потому что он самый распространённый"
      ],
      "metadata": {
        "id": "9GwDNmhE1fNf"
      },
      "id": "9GwDNmhE1fNf"
    },
    {
      "cell_type": "code",
      "execution_count": null,
      "id": "2a4a9cbd-5969-4bac-8fa0-9f5415082b2b",
      "metadata": {
        "id": "2a4a9cbd-5969-4bac-8fa0-9f5415082b2b",
        "outputId": "731117d4-1f03-48a2-a056-df715a27a073",
        "colab": {
          "base_uri": "https://localhost:8080/"
        }
      },
      "outputs": [
        {
          "output_type": "stream",
          "name": "stdout",
          "text": [
            "Model params:  268650\n"
          ]
        }
      ],
      "source": [
        "# Гиперпараметры\n",
        "learning_rate = 0.001\n",
        "num_epochs = 50\n",
        "batch_size = 512\n",
        "\n",
        "model = Baseline()\n",
        "\n",
        "print('Model params: ', count_parameters(model))\n",
        "\n",
        "# Определяем функцию потерь и оптимизатор\n",
        "criterion = torch.nn.CrossEntropyLoss()\n",
        "optimizer = torch.optim.Adam(model.parameters(), lr=learning_rate)\n",
        "\n",
        "# Создание загрузчиков данных для тренировки, валидации и тестирования\n",
        "train_loader = torch.utils.data.DataLoader(train_dataset, batch_size=batch_size, shuffle=True)\n",
        "val_loader = torch.utils.data.DataLoader(val_dataset, batch_size=batch_size, shuffle=True)\n",
        "test_loader = torch.utils.data.DataLoader(test_dataset, batch_size=batch_size, shuffle=False)"
      ]
    },
    {
      "cell_type": "markdown",
      "id": "6f1ff197-828a-4eda-ac8d-6a07d9597db5",
      "metadata": {
        "id": "6f1ff197-828a-4eda-ac8d-6a07d9597db5"
      },
      "source": [
        "Обучите модель и постройте графики обучения"
      ]
    },
    {
      "cell_type": "code",
      "execution_count": null,
      "id": "f7508531-309f-4e77-8c98-0c8e41005eb1",
      "metadata": {
        "id": "f7508531-309f-4e77-8c98-0c8e41005eb1",
        "outputId": "d565cb31-7c43-477c-b0aa-5835f9c6a098",
        "colab": {
          "base_uri": "https://localhost:8080/",
          "height": 305
        }
      },
      "outputs": [
        {
          "output_type": "stream",
          "name": "stderr",
          "text": [
            "Train epoch 1/50:  13%|█▉             | 10/79 [00:00<00:01, 53.94it/s, loss=2.2607, accuracy=0.1744]\n"
          ]
        },
        {
          "output_type": "error",
          "ename": "KeyboardInterrupt",
          "evalue": "",
          "traceback": [
            "\u001b[0;31m---------------------------------------------------------------------------\u001b[0m",
            "\u001b[0;31mKeyboardInterrupt\u001b[0m                         Traceback (most recent call last)",
            "\u001b[0;32m<ipython-input-111-d5834a64729a>\u001b[0m in \u001b[0;36m<cell line: 1>\u001b[0;34m()\u001b[0m\n\u001b[0;32m----> 1\u001b[0;31m \u001b[0mtrain_loss_history\u001b[0m\u001b[0;34m,\u001b[0m \u001b[0mtrain_acc_history\u001b[0m\u001b[0;34m,\u001b[0m \u001b[0mval_loss_history\u001b[0m\u001b[0;34m,\u001b[0m \u001b[0mval_acc_history\u001b[0m \u001b[0;34m=\u001b[0m \u001b[0mtrain\u001b[0m\u001b[0;34m(\u001b[0m\u001b[0mmodel\u001b[0m\u001b[0;34m,\u001b[0m \u001b[0mtrain_loader\u001b[0m\u001b[0;34m,\u001b[0m \u001b[0mval_loader\u001b[0m\u001b[0;34m,\u001b[0m \u001b[0mcriterion\u001b[0m\u001b[0;34m,\u001b[0m \u001b[0moptimizer\u001b[0m\u001b[0;34m,\u001b[0m \u001b[0mdevice\u001b[0m\u001b[0;34m,\u001b[0m \u001b[0mepochs\u001b[0m\u001b[0;34m=\u001b[0m\u001b[0mnum_epochs\u001b[0m\u001b[0;34m)\u001b[0m\u001b[0;34m\u001b[0m\u001b[0;34m\u001b[0m\u001b[0m\n\u001b[0m",
            "\u001b[0;32m<ipython-input-108-4385b41c84f4>\u001b[0m in \u001b[0;36mtrain\u001b[0;34m(model, train_loader, val_loader, criterion, optimizer, device, epochs)\u001b[0m\n\u001b[1;32m     24\u001b[0m             \u001b[0moptimizer\u001b[0m\u001b[0;34m.\u001b[0m\u001b[0mstep\u001b[0m\u001b[0;34m(\u001b[0m\u001b[0;34m)\u001b[0m\u001b[0;34m\u001b[0m\u001b[0;34m\u001b[0m\u001b[0m\n\u001b[1;32m     25\u001b[0m \u001b[0;34m\u001b[0m\u001b[0m\n\u001b[0;32m---> 26\u001b[0;31m             \u001b[0mrunning_loss\u001b[0m \u001b[0;34m+=\u001b[0m \u001b[0mloss\u001b[0m\u001b[0;34m.\u001b[0m\u001b[0mitem\u001b[0m\u001b[0;34m(\u001b[0m\u001b[0;34m)\u001b[0m\u001b[0;34m\u001b[0m\u001b[0;34m\u001b[0m\u001b[0m\n\u001b[0m\u001b[1;32m     27\u001b[0m \u001b[0;34m\u001b[0m\u001b[0m\n\u001b[1;32m     28\u001b[0m             \u001b[0;31m# Вычислите точность предсказания\u001b[0m\u001b[0;34m\u001b[0m\u001b[0;34m\u001b[0m\u001b[0m\n",
            "\u001b[0;31mKeyboardInterrupt\u001b[0m: "
          ]
        }
      ],
      "source": [
        "train_loss_history, train_acc_history, val_loss_history, val_acc_history = train(model, train_loader, val_loader, criterion, optimizer, device, epochs=num_epochs)"
      ]
    },
    {
      "cell_type": "code",
      "execution_count": null,
      "id": "08dcb17e-73b3-451c-8298-835029326057",
      "metadata": {
        "id": "08dcb17e-73b3-451c-8298-835029326057"
      },
      "outputs": [],
      "source": [
        "epochs = range(1, len(train_loss_history) + 1)\n",
        "\n",
        "# График функции потерь на тренировочных данных\n",
        "plt.figure(figsize=(12, 5))\n",
        "plt.subplot(1, 2, 1)\n",
        "plt.plot(epochs, train_loss_history, 'b', label='Train Loss')\n",
        "plt.plot(epochs, val_loss_history, 'r', label='Validation Loss')\n",
        "plt.title('Train and Validation Loss')\n",
        "plt.xlabel('Epochs')\n",
        "plt.ylabel('Loss')\n",
        "plt.legend()\n",
        "\n",
        "# График точности на валидационных данных\n",
        "plt.subplot(1, 2, 2)\n",
        "plt.plot(epochs, train_acc_history, 'b', label='Train Accuracy')\n",
        "plt.plot(epochs, val_acc_history, 'g', label='Validation Accuracy')\n",
        "plt.title('Validation Accuracy')\n",
        "plt.xlabel('Epochs')\n",
        "plt.ylabel('Accuracy')\n",
        "plt.legend()\n",
        "\n",
        "plt.tight_layout()\n",
        "plt.show()"
      ]
    },
    {
      "cell_type": "markdown",
      "id": "a195b688-6baa-4c71-bc0c-5f90d7eed6da",
      "metadata": {
        "id": "a195b688-6baa-4c71-bc0c-5f90d7eed6da"
      },
      "source": [
        "Сделайте выводы о качестве обучения"
      ]
    },
    {
      "cell_type": "markdown",
      "source": [
        "Примерно с 20-ой эпохи точность валидации перестала расти, а местами начала уменьшаться, в то время, как точность на тренеруемой выборке продолжает расти, это говорит о том, что модель мпереобучается и с этим что-то нужно делать.\n"
      ],
      "metadata": {
        "id": "N2wDHITXvwsg"
      },
      "id": "N2wDHITXvwsg"
    },
    {
      "cell_type": "markdown",
      "id": "ff061f53-e474-4cb4-b34d-45f14546c400",
      "metadata": {
        "id": "ff061f53-e474-4cb4-b34d-45f14546c400"
      },
      "source": [
        "Оцените тестовую метрику на тестовых данных"
      ]
    },
    {
      "cell_type": "code",
      "execution_count": null,
      "id": "68c54f83-e0a6-4e1c-87c7-b129028cae76",
      "metadata": {
        "id": "68c54f83-e0a6-4e1c-87c7-b129028cae76"
      },
      "outputs": [],
      "source": [
        "test_acc, test_loss = test(model, test_loader, criterion, device)\n",
        "print('Test Loss: {:.4f}\\nTest Accuracy: {:.4f}'.format(test_loss, test_acc))"
      ]
    },
    {
      "cell_type": "markdown",
      "id": "06b78b24-c338-4e42-81ce-7c120d8fd420",
      "metadata": {
        "id": "06b78b24-c338-4e42-81ce-7c120d8fd420"
      },
      "source": [
        "## Что дальше?\n",
        "Теперь, когда у вас есть все необходимое - экспериментируйте. Можете изменить все что угодно, креативность поощряется. Используйте новые модели, loss-функции, аугментацию, ансамбли, выдумывайте все, что сможете"
      ]
    },
    {
      "cell_type": "markdown",
      "id": "5c373039-62ab-441a-84bc-473d3fa726d2",
      "metadata": {
        "id": "5c373039-62ab-441a-84bc-473d3fa726d2"
      },
      "source": [
        "## Критерии оценки\n",
        "Accuracy - на тестовых данных\n",
        "- $Accuracy \\leq 0.67$ - 0 баллов\n",
        "- $0.67 < Accuracy \\leq 0.72$ - 2 балла\n",
        "- $0.72 < Accuracy \\leq 0.77$ - 4 балла\n",
        "- $0.77 < Accuracy \\leq 0.82$ - 6 баллов\n",
        "- $0.82 < Accuracy \\leq 0.87$ - 8 баллов\n",
        "- $Accuracy > 0.87$ - 10 баллов"
      ]
    },
    {
      "cell_type": "markdown",
      "source": [
        "Блок для аугментации данных"
      ],
      "metadata": {
        "id": "wSM3WUoFwSfM"
      },
      "id": "wSM3WUoFwSfM"
    },
    {
      "cell_type": "code",
      "source": [
        "transform_train = transforms.Compose([\n",
        "    # transforms.Resize(64),  # Изменение размера изображения\n",
        "    transforms.RandomHorizontalFlip(),\n",
        "    # transforms.RandomRotation(10),\n",
        "    # transforms.RandomCrop(32, padding=4),\n",
        "    # transforms.ColorJitter(brightness=0.2, contrast=0.2),\n",
        "    transforms.ToTensor(),\n",
        "    transforms.Normalize((0.5, 0.5, 0.5), (0.5, 0.5, 0.5))\n",
        "])\n",
        "\n",
        "transform_test = transforms.Compose([\n",
        "    transforms.ToTensor(),\n",
        "    transforms.Normalize((0.5, 0.5, 0.5), (0.5, 0.5, 0.5))\n",
        "])\n",
        "\n",
        "# Преобразуем картинку в torch.Tensor\n",
        "transform = transforms.ToTensor()\n",
        "\n",
        "# Загрузим датасеты для train и test\n",
        "train_dataset = torchvision.datasets.CIFAR10(root='./data', train=True, transform=transform_train, download=True)\n",
        "test_dataset = torchvision.datasets.CIFAR10(root='./data', train=False, transform=transform_test, download=True)"
      ],
      "metadata": {
        "id": "OYjxvk0GUcgq",
        "outputId": "e9cd4516-880c-4a84-f319-871d18b2ac78",
        "colab": {
          "base_uri": "https://localhost:8080/"
        }
      },
      "id": "OYjxvk0GUcgq",
      "execution_count": 3,
      "outputs": [
        {
          "output_type": "stream",
          "name": "stdout",
          "text": [
            "Downloading https://www.cs.toronto.edu/~kriz/cifar-10-python.tar.gz to ./data/cifar-10-python.tar.gz\n"
          ]
        },
        {
          "output_type": "stream",
          "name": "stderr",
          "text": [
            "100%|██████████| 170M/170M [00:13<00:00, 13.1MB/s]\n"
          ]
        },
        {
          "output_type": "stream",
          "name": "stdout",
          "text": [
            "Extracting ./data/cifar-10-python.tar.gz to ./data\n",
            "Files already downloaded and verified\n"
          ]
        }
      ]
    },
    {
      "cell_type": "code",
      "source": [
        "train_size = int(0.8 * len(train_dataset))  # 80% данных для обучения и 20% для валидации\n",
        "val_size = len(train_dataset) - train_size\n",
        "\n",
        "# Разделение на обучающий и валидационный датасеты\n",
        "train_dataset, val_dataset = train_test_split(train_dataset, test_size=val_size, random_state=42, shuffle=True)"
      ],
      "metadata": {
        "id": "_uP78UVPVA7w"
      },
      "id": "_uP78UVPVA7w",
      "execution_count": 4,
      "outputs": []
    },
    {
      "cell_type": "code",
      "source": [
        "from torchvision.transforms import GaussianBlur\n",
        "\n",
        "class AugmentationLayer(nn.Module):\n",
        "    def __init__(self):\n",
        "        super(AugmentationLayer, self).__init__()\n",
        "\n",
        "    def forward(self, x):\n",
        "        # С вероятностью 50% переворачиваем изображение по горизонтали\n",
        "        if torch.rand(1) > 0.5:\n",
        "            x = torch.flip(x, [3])\n",
        "\n",
        "        import torchvision.transforms.functional as F\n",
        "        # С вероятностью 50% применяем случайный сдвиг изображения\n",
        "        if torch.rand(1) > 0.5:\n",
        "            max_shift = 4  # Максимальное смещение в пикселях\n",
        "            dx = torch.randint(low=-max_shift, high=max_shift + 1, size=(1,)).item()  # Случайное смещение по оси x\n",
        "            dy = torch.randint(low=-max_shift, high=max_shift + 1, size=(1,)).item()  # Случайное смещение по оси y\n",
        "            x = F.affine(x, angle=0, translate=(dx, dy), scale=1.0, shear=0)  # Применяем аффинное преобразование\n",
        "\n",
        "        return x"
      ],
      "metadata": {
        "id": "8SFr-wJbVLnj"
      },
      "id": "8SFr-wJbVLnj",
      "execution_count": 5,
      "outputs": []
    },
    {
      "cell_type": "code",
      "source": [
        "class UpdatedModel(nn.Module):\n",
        "    def __init__(self, num_classes=10):\n",
        "        super(UpdatedModel, self).__init__()\n",
        "        self.augmentation_layer = AugmentationLayer()\n",
        "        self.conv1 = nn.Conv2d(3, 64, 3, padding=1)\n",
        "        self.conv2 = nn.Conv2d(64, 128, 3, padding=1)\n",
        "        self.conv3 = nn.Conv2d(128, 256, 3, padding=1)\n",
        "        self.pool = nn.MaxPool2d(2, 2)\n",
        "        self.fc1 = nn.Linear(256 * 4 * 4, 1024)\n",
        "        self.fc2 = nn.Linear(1024, num_classes)\n",
        "        self.dropout = nn.Dropout(0.4)\n",
        "        self.batch_norm1 = nn.BatchNorm2d(64)\n",
        "        self.batch_norm2 = nn.BatchNorm2d(128)\n",
        "        self.batch_norm3 = nn.BatchNorm2d(256)\n",
        "\n",
        "    def forward(self, x):\n",
        "        x = self.augmentation_layer(x)\n",
        "        x = self.pool(F.relu(self.batch_norm1(self.conv1(x))))\n",
        "        x = self.pool(F.relu(self.batch_norm2(self.conv2(x))))\n",
        "        x = self.pool(F.relu(self.batch_norm3(self.conv3(x))))\n",
        "        x = x.view(-1, 256 * 4 * 4)\n",
        "        x = self.dropout(x)\n",
        "        x = F.relu(self.fc1(x))\n",
        "        x = self.dropout(x)\n",
        "        x = self.fc2(x)\n",
        "        return x"
      ],
      "metadata": {
        "id": "VaCRpSCgwV6K"
      },
      "id": "VaCRpSCgwV6K",
      "execution_count": 18,
      "outputs": []
    },
    {
      "cell_type": "code",
      "source": [
        "# Гиперпараметры\n",
        "learning_rate = 0.001\n",
        "num_epochs = 150\n",
        "batch_size = 512\n",
        "\n",
        "model = UpdatedModel()\n",
        "\n",
        "print('Model params: ', count_parameters(model))\n",
        "\n",
        "# Определяем функцию потерь и оптимизатор\n",
        "criterion = torch.nn.CrossEntropyLoss()\n",
        "optimizer = torch.optim.Adam(model.parameters(), lr=learning_rate)\n",
        "\n",
        "# Создание загрузчиков данных для тренировки, валидации и тестирования\n",
        "train_loader = torch.utils.data.DataLoader(train_dataset, batch_size=batch_size, shuffle=True)\n",
        "val_loader = torch.utils.data.DataLoader(val_dataset, batch_size=batch_size, shuffle=True)\n",
        "test_loader = torch.utils.data.DataLoader(test_dataset, batch_size=batch_size, shuffle=False)"
      ],
      "metadata": {
        "id": "1yUIRdlFzdPg",
        "outputId": "3cd437df-ff55-44f4-fd3b-774aaff40f28",
        "colab": {
          "base_uri": "https://localhost:8080/"
        }
      },
      "id": "1yUIRdlFzdPg",
      "execution_count": 20,
      "outputs": [
        {
          "output_type": "stream",
          "name": "stdout",
          "text": [
            "Model params:  4577290\n"
          ]
        }
      ]
    },
    {
      "cell_type": "code",
      "source": [
        "train_loss_history, train_acc_history, val_loss_history, val_acc_history = train(model, train_loader, val_loader, criterion, optimizer, device, epochs=num_epochs)"
      ],
      "metadata": {
        "id": "ij23cCCozs_H",
        "outputId": "00cf3dbe-fcf4-4ff7-9ec8-b247cd3af5ef",
        "colab": {
          "base_uri": "https://localhost:8080/"
        }
      },
      "id": "ij23cCCozs_H",
      "execution_count": 21,
      "outputs": [
        {
          "output_type": "stream",
          "name": "stderr",
          "text": [
            "Train epoch 1/150: 100%|██████████████| 79/79 [00:04<00:00, 19.44it/s, loss=2.0128, accuracy=0.3267]\n",
            "Val 1/150: 100%|██████████████████████| 20/20 [00:00<00:00, 46.99it/s, loss=1.5587, accuracy=0.4181]\n",
            "Train epoch 2/150: 100%|██████████████| 79/79 [00:03<00:00, 20.17it/s, loss=1.4551, accuracy=0.4679]\n",
            "Val 2/150: 100%|██████████████████████| 20/20 [00:00<00:00, 46.36it/s, loss=1.4016, accuracy=0.4837]\n",
            "Train epoch 3/150: 100%|██████████████| 79/79 [00:04<00:00, 19.67it/s, loss=1.2735, accuracy=0.5351]\n",
            "Val 3/150: 100%|██████████████████████| 20/20 [00:00<00:00, 46.98it/s, loss=1.2149, accuracy=0.5569]\n",
            "Train epoch 4/150: 100%|██████████████| 79/79 [00:03<00:00, 20.09it/s, loss=1.1420, accuracy=0.5876]\n",
            "Val 4/150: 100%|██████████████████████| 20/20 [00:00<00:00, 47.00it/s, loss=1.1125, accuracy=0.5942]\n",
            "Train epoch 5/150: 100%|██████████████| 79/79 [00:03<00:00, 20.01it/s, loss=1.0497, accuracy=0.6228]\n",
            "Val 5/150: 100%|██████████████████████| 20/20 [00:00<00:00, 43.97it/s, loss=1.0353, accuracy=0.6269]\n",
            "Train epoch 6/150: 100%|██████████████| 79/79 [00:04<00:00, 19.67it/s, loss=0.9713, accuracy=0.6552]\n",
            "Val 6/150: 100%|██████████████████████| 20/20 [00:00<00:00, 47.35it/s, loss=0.9323, accuracy=0.6698]\n",
            "Train epoch 7/150: 100%|██████████████| 79/79 [00:04<00:00, 19.13it/s, loss=0.9105, accuracy=0.6795]\n",
            "Val 7/150: 100%|██████████████████████| 20/20 [00:00<00:00, 34.10it/s, loss=0.9517, accuracy=0.6623]\n",
            "Train epoch 8/150: 100%|██████████████| 79/79 [00:03<00:00, 19.80it/s, loss=0.8828, accuracy=0.6860]\n",
            "Val 8/150: 100%|██████████████████████| 20/20 [00:00<00:00, 44.07it/s, loss=0.9101, accuracy=0.6803]\n",
            "Train epoch 9/150: 100%|██████████████| 79/79 [00:04<00:00, 19.62it/s, loss=0.8595, accuracy=0.6988]\n",
            "Val 9/150: 100%|██████████████████████| 20/20 [00:00<00:00, 46.32it/s, loss=0.8647, accuracy=0.7006]\n",
            "Train epoch 10/150: 100%|█████████████| 79/79 [00:03<00:00, 19.90it/s, loss=0.8292, accuracy=0.7101]\n",
            "Val 10/150: 100%|█████████████████████| 20/20 [00:00<00:00, 46.32it/s, loss=0.8460, accuracy=0.7001]\n",
            "Train epoch 11/150: 100%|█████████████| 79/79 [00:03<00:00, 19.91it/s, loss=0.7856, accuracy=0.7265]\n",
            "Val 11/150: 100%|█████████████████████| 20/20 [00:00<00:00, 42.02it/s, loss=0.8059, accuracy=0.7210]\n",
            "Train epoch 12/150: 100%|█████████████| 79/79 [00:04<00:00, 19.54it/s, loss=0.7502, accuracy=0.7359]\n",
            "Val 12/150: 100%|█████████████████████| 20/20 [00:00<00:00, 47.57it/s, loss=0.7920, accuracy=0.7260]\n",
            "Train epoch 13/150: 100%|█████████████| 79/79 [00:03<00:00, 19.98it/s, loss=0.7448, accuracy=0.7398]\n",
            "Val 13/150: 100%|█████████████████████| 20/20 [00:00<00:00, 46.54it/s, loss=0.8088, accuracy=0.7218]\n",
            "Train epoch 14/150: 100%|█████████████| 79/79 [00:04<00:00, 19.59it/s, loss=0.7224, accuracy=0.7458]\n",
            "Val 14/150: 100%|█████████████████████| 20/20 [00:00<00:00, 44.36it/s, loss=0.7960, accuracy=0.7290]\n",
            "Train epoch 15/150: 100%|█████████████| 79/79 [00:04<00:00, 19.73it/s, loss=0.7243, accuracy=0.7467]\n",
            "Val 15/150: 100%|█████████████████████| 20/20 [00:00<00:00, 46.35it/s, loss=0.7772, accuracy=0.7348]\n",
            "Train epoch 16/150: 100%|█████████████| 79/79 [00:03<00:00, 19.88it/s, loss=0.7037, accuracy=0.7520]\n",
            "Val 16/150: 100%|█████████████████████| 20/20 [00:00<00:00, 46.12it/s, loss=0.7377, accuracy=0.7467]\n",
            "Train epoch 17/150: 100%|█████████████| 79/79 [00:04<00:00, 19.57it/s, loss=0.6574, accuracy=0.7724]\n",
            "Val 17/150: 100%|█████████████████████| 20/20 [00:00<00:00, 43.49it/s, loss=0.7477, accuracy=0.7462]\n",
            "Train epoch 18/150: 100%|█████████████| 79/79 [00:03<00:00, 19.84it/s, loss=0.6633, accuracy=0.7668]\n",
            "Val 18/150: 100%|█████████████████████| 20/20 [00:00<00:00, 46.82it/s, loss=0.7300, accuracy=0.7475]\n",
            "Train epoch 19/150: 100%|█████████████| 79/79 [00:03<00:00, 19.86it/s, loss=0.6533, accuracy=0.7735]\n",
            "Val 19/150: 100%|█████████████████████| 20/20 [00:00<00:00, 47.69it/s, loss=0.7029, accuracy=0.7613]\n",
            "Train epoch 20/150: 100%|█████████████| 79/79 [00:04<00:00, 19.55it/s, loss=0.6333, accuracy=0.7793]\n",
            "Val 20/150: 100%|█████████████████████| 20/20 [00:00<00:00, 43.77it/s, loss=0.7135, accuracy=0.7572]\n",
            "Train epoch 21/150: 100%|█████████████| 79/79 [00:03<00:00, 19.85it/s, loss=0.6231, accuracy=0.7823]\n",
            "Val 21/150: 100%|█████████████████████| 20/20 [00:00<00:00, 45.84it/s, loss=0.7150, accuracy=0.7572]\n",
            "Train epoch 22/150: 100%|█████████████| 79/79 [00:04<00:00, 19.57it/s, loss=0.6136, accuracy=0.7855]\n",
            "Val 22/150: 100%|█████████████████████| 20/20 [00:00<00:00, 47.05it/s, loss=0.7193, accuracy=0.7573]\n",
            "Train epoch 23/150: 100%|█████████████| 79/79 [00:04<00:00, 19.48it/s, loss=0.6110, accuracy=0.7866]\n",
            "Val 23/150: 100%|█████████████████████| 20/20 [00:00<00:00, 46.29it/s, loss=0.7481, accuracy=0.7391]\n",
            "Train epoch 24/150: 100%|█████████████| 79/79 [00:03<00:00, 19.86it/s, loss=0.6069, accuracy=0.7882]\n",
            "Val 24/150: 100%|█████████████████████| 20/20 [00:00<00:00, 45.85it/s, loss=0.7162, accuracy=0.7535]\n",
            "Train epoch 25/150: 100%|█████████████| 79/79 [00:03<00:00, 19.93it/s, loss=0.6084, accuracy=0.7882]\n",
            "Val 25/150: 100%|█████████████████████| 20/20 [00:00<00:00, 48.00it/s, loss=0.6992, accuracy=0.7637]\n",
            "Train epoch 26/150: 100%|█████████████| 79/79 [00:04<00:00, 19.50it/s, loss=0.5507, accuracy=0.8079]\n",
            "Val 26/150: 100%|█████████████████████| 20/20 [00:00<00:00, 47.14it/s, loss=0.7096, accuracy=0.7641]\n",
            "Train epoch 27/150: 100%|█████████████| 79/79 [00:03<00:00, 19.84it/s, loss=0.5545, accuracy=0.8052]\n",
            "Val 27/150: 100%|█████████████████████| 20/20 [00:00<00:00, 45.75it/s, loss=0.6937, accuracy=0.7688]\n",
            "Train epoch 28/150: 100%|█████████████| 79/79 [00:03<00:00, 19.79it/s, loss=0.5322, accuracy=0.8133]\n",
            "Val 28/150: 100%|█████████████████████| 20/20 [00:00<00:00, 47.18it/s, loss=0.6424, accuracy=0.7827]\n",
            "Train epoch 29/150: 100%|█████████████| 79/79 [00:04<00:00, 19.48it/s, loss=0.5386, accuracy=0.8102]\n",
            "Val 29/150: 100%|█████████████████████| 20/20 [00:00<00:00, 46.26it/s, loss=0.6825, accuracy=0.7732]\n",
            "Train epoch 30/150: 100%|█████████████| 79/79 [00:03<00:00, 19.81it/s, loss=0.5337, accuracy=0.8139]\n",
            "Val 30/150: 100%|█████████████████████| 20/20 [00:00<00:00, 46.83it/s, loss=0.6349, accuracy=0.7901]\n",
            "Train epoch 31/150: 100%|█████████████| 79/79 [00:03<00:00, 19.76it/s, loss=0.5290, accuracy=0.8160]\n",
            "Val 31/150: 100%|█████████████████████| 20/20 [00:00<00:00, 45.81it/s, loss=0.6423, accuracy=0.7866]\n",
            "Train epoch 32/150: 100%|█████████████| 79/79 [00:04<00:00, 19.28it/s, loss=0.5362, accuracy=0.8122]\n",
            "Val 32/150: 100%|█████████████████████| 20/20 [00:00<00:00, 46.36it/s, loss=0.6631, accuracy=0.7755]\n",
            "Train epoch 33/150: 100%|█████████████| 79/79 [00:04<00:00, 19.56it/s, loss=0.5402, accuracy=0.8129]\n",
            "Val 33/150: 100%|█████████████████████| 20/20 [00:00<00:00, 45.00it/s, loss=0.6469, accuracy=0.7849]\n",
            "Train epoch 34/150: 100%|█████████████| 79/79 [00:04<00:00, 19.57it/s, loss=0.5053, accuracy=0.8246]\n",
            "Val 34/150: 100%|█████████████████████| 20/20 [00:00<00:00, 43.76it/s, loss=0.6142, accuracy=0.7952]\n",
            "Train epoch 35/150: 100%|█████████████| 79/79 [00:04<00:00, 19.51it/s, loss=0.5174, accuracy=0.8197]\n",
            "Val 35/150: 100%|█████████████████████| 20/20 [00:00<00:00, 46.04it/s, loss=0.6249, accuracy=0.7879]\n",
            "Train epoch 36/150: 100%|█████████████| 79/79 [00:04<00:00, 19.75it/s, loss=0.4999, accuracy=0.8265]\n",
            "Val 36/150: 100%|█████████████████████| 20/20 [00:00<00:00, 46.95it/s, loss=0.6272, accuracy=0.7883]\n",
            "Train epoch 37/150: 100%|█████████████| 79/79 [00:04<00:00, 19.63it/s, loss=0.4903, accuracy=0.8314]\n",
            "Val 37/150: 100%|█████████████████████| 20/20 [00:00<00:00, 42.06it/s, loss=0.6477, accuracy=0.7800]\n",
            "Train epoch 38/150: 100%|█████████████| 79/79 [00:04<00:00, 19.59it/s, loss=0.4843, accuracy=0.8318]\n",
            "Val 38/150: 100%|█████████████████████| 20/20 [00:00<00:00, 47.08it/s, loss=0.6011, accuracy=0.7984]\n",
            "Train epoch 39/150: 100%|█████████████| 79/79 [00:03<00:00, 19.80it/s, loss=0.4876, accuracy=0.8304]\n",
            "Val 39/150: 100%|█████████████████████| 20/20 [00:00<00:00, 45.84it/s, loss=0.5922, accuracy=0.8035]\n",
            "Train epoch 40/150: 100%|█████████████| 79/79 [00:04<00:00, 19.55it/s, loss=0.4771, accuracy=0.8317]\n",
            "Val 40/150: 100%|█████████████████████| 20/20 [00:00<00:00, 44.38it/s, loss=0.5933, accuracy=0.8081]\n",
            "Train epoch 41/150: 100%|█████████████| 79/79 [00:04<00:00, 19.47it/s, loss=0.4714, accuracy=0.8358]\n",
            "Val 41/150: 100%|█████████████████████| 20/20 [00:00<00:00, 46.31it/s, loss=0.6433, accuracy=0.7873]\n",
            "Train epoch 42/150: 100%|█████████████| 79/79 [00:04<00:00, 19.65it/s, loss=0.4362, accuracy=0.8472]\n",
            "Val 42/150: 100%|█████████████████████| 20/20 [00:00<00:00, 46.65it/s, loss=0.5744, accuracy=0.8135]\n",
            "Train epoch 43/150: 100%|█████████████| 79/79 [00:04<00:00, 19.33it/s, loss=0.4574, accuracy=0.8427]\n",
            "Val 43/150: 100%|█████████████████████| 20/20 [00:00<00:00, 43.28it/s, loss=0.6052, accuracy=0.7944]\n",
            "Train epoch 44/150: 100%|█████████████| 79/79 [00:04<00:00, 19.49it/s, loss=0.4393, accuracy=0.8474]\n",
            "Val 44/150: 100%|█████████████████████| 20/20 [00:00<00:00, 46.67it/s, loss=0.5883, accuracy=0.8077]\n",
            "Train epoch 45/150: 100%|█████████████| 79/79 [00:04<00:00, 19.63it/s, loss=0.4461, accuracy=0.8443]\n",
            "Val 45/150: 100%|█████████████████████| 20/20 [00:00<00:00, 46.10it/s, loss=0.5797, accuracy=0.8119]\n",
            "Train epoch 46/150: 100%|█████████████| 79/79 [00:04<00:00, 19.44it/s, loss=0.4433, accuracy=0.8470]\n",
            "Val 46/150: 100%|█████████████████████| 20/20 [00:00<00:00, 44.60it/s, loss=0.5718, accuracy=0.8076]\n",
            "Train epoch 47/150: 100%|█████████████| 79/79 [00:04<00:00, 19.57it/s, loss=0.4317, accuracy=0.8494]\n",
            "Val 47/150: 100%|█████████████████████| 20/20 [00:00<00:00, 44.75it/s, loss=0.6118, accuracy=0.8013]\n",
            "Train epoch 48/150: 100%|█████████████| 79/79 [00:04<00:00, 19.65it/s, loss=0.4347, accuracy=0.8473]\n",
            "Val 48/150: 100%|█████████████████████| 20/20 [00:00<00:00, 47.15it/s, loss=0.5982, accuracy=0.8044]\n",
            "Train epoch 49/150: 100%|█████████████| 79/79 [00:04<00:00, 19.45it/s, loss=0.3946, accuracy=0.8616]\n",
            "Val 49/150: 100%|█████████████████████| 20/20 [00:00<00:00, 45.42it/s, loss=0.5844, accuracy=0.8083]\n",
            "Train epoch 50/150: 100%|█████████████| 79/79 [00:04<00:00, 19.59it/s, loss=0.4145, accuracy=0.8544]\n",
            "Val 50/150: 100%|█████████████████████| 20/20 [00:00<00:00, 45.78it/s, loss=0.5887, accuracy=0.8120]\n",
            "Train epoch 51/150: 100%|█████████████| 79/79 [00:04<00:00, 19.62it/s, loss=0.4250, accuracy=0.8528]\n",
            "Val 51/150: 100%|█████████████████████| 20/20 [00:00<00:00, 46.08it/s, loss=0.5694, accuracy=0.8189]\n",
            "Train epoch 52/150: 100%|█████████████| 79/79 [00:04<00:00, 19.39it/s, loss=0.3974, accuracy=0.8631]\n",
            "Val 52/150: 100%|█████████████████████| 20/20 [00:00<00:00, 46.16it/s, loss=0.5763, accuracy=0.8118]\n",
            "Train epoch 53/150: 100%|█████████████| 79/79 [00:04<00:00, 19.59it/s, loss=0.3908, accuracy=0.8619]\n",
            "Val 53/150: 100%|█████████████████████| 20/20 [00:00<00:00, 45.21it/s, loss=0.5983, accuracy=0.8065]\n",
            "Train epoch 54/150: 100%|█████████████| 79/79 [00:04<00:00, 19.50it/s, loss=0.4150, accuracy=0.8554]\n",
            "Val 54/150: 100%|█████████████████████| 20/20 [00:00<00:00, 47.65it/s, loss=0.6055, accuracy=0.8012]\n",
            "Train epoch 55/150: 100%|█████████████| 79/79 [00:04<00:00, 19.39it/s, loss=0.4074, accuracy=0.8570]\n",
            "Val 55/150: 100%|█████████████████████| 20/20 [00:00<00:00, 46.65it/s, loss=0.5641, accuracy=0.8157]\n",
            "Train epoch 56/150: 100%|█████████████| 79/79 [00:04<00:00, 19.61it/s, loss=0.3797, accuracy=0.8664]\n",
            "Val 56/150: 100%|█████████████████████| 20/20 [00:00<00:00, 44.80it/s, loss=0.5863, accuracy=0.8075]\n",
            "Train epoch 57/150: 100%|█████████████| 79/79 [00:04<00:00, 19.64it/s, loss=0.3667, accuracy=0.8710]\n",
            "Val 57/150: 100%|█████████████████████| 20/20 [00:00<00:00, 45.65it/s, loss=0.5736, accuracy=0.8143]\n",
            "Train epoch 58/150: 100%|█████████████| 79/79 [00:04<00:00, 19.49it/s, loss=0.3447, accuracy=0.8812]\n",
            "Val 58/150: 100%|█████████████████████| 20/20 [00:00<00:00, 46.12it/s, loss=0.6042, accuracy=0.8060]\n",
            "Train epoch 59/150: 100%|█████████████| 79/79 [00:04<00:00, 19.72it/s, loss=0.3653, accuracy=0.8724]\n",
            "Val 59/150: 100%|█████████████████████| 20/20 [00:00<00:00, 46.53it/s, loss=0.5704, accuracy=0.8175]\n",
            "Train epoch 60/150: 100%|█████████████| 79/79 [00:04<00:00, 19.50it/s, loss=0.3632, accuracy=0.8722]\n",
            "Val 60/150: 100%|█████████████████████| 20/20 [00:00<00:00, 44.70it/s, loss=0.5894, accuracy=0.8087]\n",
            "Train epoch 61/150: 100%|█████████████| 79/79 [00:04<00:00, 19.52it/s, loss=0.3501, accuracy=0.8782]\n",
            "Val 61/150: 100%|█████████████████████| 20/20 [00:00<00:00, 47.14it/s, loss=0.5524, accuracy=0.8248]\n",
            "Train epoch 62/150: 100%|█████████████| 79/79 [00:04<00:00, 19.61it/s, loss=0.3711, accuracy=0.8716]\n",
            "Val 62/150: 100%|█████████████████████| 20/20 [00:00<00:00, 46.77it/s, loss=0.5625, accuracy=0.8189]\n",
            "Train epoch 63/150: 100%|█████████████| 79/79 [00:04<00:00, 19.57it/s, loss=0.3705, accuracy=0.8700]\n",
            "Val 63/150: 100%|█████████████████████| 20/20 [00:00<00:00, 46.06it/s, loss=0.5998, accuracy=0.8120]\n",
            "Train epoch 64/150: 100%|█████████████| 79/79 [00:04<00:00, 19.42it/s, loss=0.3626, accuracy=0.8747]\n",
            "Val 64/150: 100%|█████████████████████| 20/20 [00:00<00:00, 46.00it/s, loss=0.5545, accuracy=0.8172]\n",
            "Train epoch 65/150: 100%|█████████████| 79/79 [00:04<00:00, 19.58it/s, loss=0.3456, accuracy=0.8793]\n",
            "Val 65/150: 100%|█████████████████████| 20/20 [00:00<00:00, 45.19it/s, loss=0.5726, accuracy=0.8170]\n",
            "Train epoch 66/150: 100%|█████████████| 79/79 [00:04<00:00, 19.45it/s, loss=0.3230, accuracy=0.8854]\n",
            "Val 66/150: 100%|█████████████████████| 20/20 [00:00<00:00, 43.96it/s, loss=0.6068, accuracy=0.8073]\n",
            "Train epoch 67/150: 100%|█████████████| 79/79 [00:04<00:00, 19.45it/s, loss=0.3304, accuracy=0.8843]\n",
            "Val 67/150: 100%|█████████████████████| 20/20 [00:00<00:00, 46.76it/s, loss=0.5906, accuracy=0.8127]\n",
            "Train epoch 68/150: 100%|█████████████| 79/79 [00:04<00:00, 19.58it/s, loss=0.3426, accuracy=0.8794]\n",
            "Val 68/150: 100%|█████████████████████| 20/20 [00:00<00:00, 45.55it/s, loss=0.5390, accuracy=0.8263]\n",
            "Train epoch 69/150: 100%|█████████████| 79/79 [00:04<00:00, 19.49it/s, loss=0.3098, accuracy=0.8907]\n",
            "Val 69/150: 100%|█████████████████████| 20/20 [00:00<00:00, 43.18it/s, loss=0.5529, accuracy=0.8184]\n",
            "Train epoch 70/150: 100%|█████████████| 79/79 [00:04<00:00, 19.32it/s, loss=0.3348, accuracy=0.8846]\n",
            "Val 70/150: 100%|█████████████████████| 20/20 [00:00<00:00, 46.08it/s, loss=0.5584, accuracy=0.8248]\n",
            "Train epoch 71/150: 100%|█████████████| 79/79 [00:04<00:00, 19.59it/s, loss=0.3363, accuracy=0.8828]\n",
            "Val 71/150: 100%|█████████████████████| 20/20 [00:00<00:00, 45.47it/s, loss=0.5510, accuracy=0.8282]\n",
            "Train epoch 72/150: 100%|█████████████| 79/79 [00:04<00:00, 19.31it/s, loss=0.3133, accuracy=0.8896]\n",
            "Val 72/150: 100%|█████████████████████| 20/20 [00:00<00:00, 42.47it/s, loss=0.5788, accuracy=0.8192]\n",
            "Train epoch 73/150: 100%|█████████████| 79/79 [00:04<00:00, 19.32it/s, loss=0.3200, accuracy=0.8865]\n",
            "Val 73/150: 100%|█████████████████████| 20/20 [00:00<00:00, 42.93it/s, loss=0.5684, accuracy=0.8231]\n",
            "Train epoch 74/150: 100%|█████████████| 79/79 [00:04<00:00, 19.49it/s, loss=0.3068, accuracy=0.8913]\n",
            "Val 74/150: 100%|█████████████████████| 20/20 [00:00<00:00, 46.99it/s, loss=0.5607, accuracy=0.8219]\n",
            "Train epoch 75/150: 100%|█████████████| 79/79 [00:04<00:00, 19.32it/s, loss=0.3174, accuracy=0.8897]\n",
            "Val 75/150: 100%|█████████████████████| 20/20 [00:00<00:00, 44.43it/s, loss=0.5680, accuracy=0.8209]\n",
            "Train epoch 76/150: 100%|█████████████| 79/79 [00:04<00:00, 19.64it/s, loss=0.3188, accuracy=0.8875]\n",
            "Val 76/150: 100%|█████████████████████| 20/20 [00:00<00:00, 45.78it/s, loss=0.5639, accuracy=0.8209]\n",
            "Train epoch 77/150: 100%|█████████████| 79/79 [00:04<00:00, 19.66it/s, loss=0.3083, accuracy=0.8924]\n",
            "Val 77/150: 100%|█████████████████████| 20/20 [00:00<00:00, 46.15it/s, loss=0.5742, accuracy=0.8217]\n",
            "Train epoch 78/150: 100%|█████████████| 79/79 [00:04<00:00, 19.26it/s, loss=0.2947, accuracy=0.8975]\n",
            "Val 78/150: 100%|█████████████████████| 20/20 [00:00<00:00, 46.79it/s, loss=0.5715, accuracy=0.8238]\n",
            "Train epoch 79/150: 100%|█████████████| 79/79 [00:04<00:00, 19.70it/s, loss=0.2815, accuracy=0.9016]\n",
            "Val 79/150: 100%|█████████████████████| 20/20 [00:00<00:00, 44.41it/s, loss=0.5823, accuracy=0.8247]\n",
            "Train epoch 80/150: 100%|█████████████| 79/79 [00:04<00:00, 19.62it/s, loss=0.3078, accuracy=0.8942]\n",
            "Val 80/150: 100%|█████████████████████| 20/20 [00:00<00:00, 46.16it/s, loss=0.5571, accuracy=0.8255]\n",
            "Train epoch 81/150: 100%|█████████████| 79/79 [00:04<00:00, 19.31it/s, loss=0.2798, accuracy=0.9008]\n",
            "Val 81/150: 100%|█████████████████████| 20/20 [00:00<00:00, 46.41it/s, loss=0.5520, accuracy=0.8304]\n",
            "Train epoch 82/150: 100%|█████████████| 79/79 [00:04<00:00, 19.62it/s, loss=0.3026, accuracy=0.8941]\n",
            "Val 82/150: 100%|█████████████████████| 20/20 [00:00<00:00, 45.89it/s, loss=0.5532, accuracy=0.8297]\n",
            "Train epoch 83/150: 100%|█████████████| 79/79 [00:04<00:00, 19.58it/s, loss=0.2849, accuracy=0.9017]\n",
            "Val 83/150: 100%|█████████████████████| 20/20 [00:00<00:00, 44.09it/s, loss=0.5528, accuracy=0.8298]\n",
            "Train epoch 84/150: 100%|█████████████| 79/79 [00:04<00:00, 19.33it/s, loss=0.3098, accuracy=0.8908]\n",
            "Val 84/150: 100%|█████████████████████| 20/20 [00:00<00:00, 47.59it/s, loss=0.5519, accuracy=0.8373]\n",
            "Train epoch 85/150: 100%|█████████████| 79/79 [00:04<00:00, 19.58it/s, loss=0.2936, accuracy=0.8960]\n",
            "Val 85/150: 100%|█████████████████████| 20/20 [00:00<00:00, 45.51it/s, loss=0.5911, accuracy=0.8100]\n",
            "Train epoch 86/150: 100%|█████████████| 79/79 [00:04<00:00, 19.63it/s, loss=0.2743, accuracy=0.9014]\n",
            "Val 86/150: 100%|█████████████████████| 20/20 [00:00<00:00, 44.89it/s, loss=0.5444, accuracy=0.8382]\n",
            "Train epoch 87/150: 100%|█████████████| 79/79 [00:04<00:00, 19.32it/s, loss=0.2582, accuracy=0.9089]\n",
            "Val 87/150: 100%|█████████████████████| 20/20 [00:00<00:00, 45.58it/s, loss=0.5749, accuracy=0.8213]\n",
            "Train epoch 88/150: 100%|█████████████| 79/79 [00:04<00:00, 19.73it/s, loss=0.2675, accuracy=0.9066]\n",
            "Val 88/150: 100%|█████████████████████| 20/20 [00:00<00:00, 47.00it/s, loss=0.5707, accuracy=0.8296]\n",
            "Train epoch 89/150: 100%|█████████████| 79/79 [00:04<00:00, 19.57it/s, loss=0.2796, accuracy=0.9021]\n",
            "Val 89/150: 100%|█████████████████████| 20/20 [00:00<00:00, 44.52it/s, loss=0.5206, accuracy=0.8323]\n",
            "Train epoch 90/150: 100%|█████████████| 79/79 [00:04<00:00, 19.43it/s, loss=0.2814, accuracy=0.9016]\n",
            "Val 90/150: 100%|█████████████████████| 20/20 [00:00<00:00, 46.70it/s, loss=0.5663, accuracy=0.8306]\n",
            "Train epoch 91/150: 100%|█████████████| 79/79 [00:04<00:00, 19.67it/s, loss=0.2716, accuracy=0.9048]\n",
            "Val 91/150: 100%|█████████████████████| 20/20 [00:00<00:00, 45.76it/s, loss=0.5446, accuracy=0.8345]\n",
            "Train epoch 92/150: 100%|█████████████| 79/79 [00:04<00:00, 19.49it/s, loss=0.2609, accuracy=0.9077]\n",
            "Val 92/150: 100%|█████████████████████| 20/20 [00:00<00:00, 44.43it/s, loss=0.5487, accuracy=0.8367]\n",
            "Train epoch 93/150: 100%|█████████████| 79/79 [00:04<00:00, 19.23it/s, loss=0.2656, accuracy=0.9066]\n",
            "Val 93/150: 100%|█████████████████████| 20/20 [00:00<00:00, 44.39it/s, loss=0.5248, accuracy=0.8402]\n",
            "Train epoch 94/150: 100%|█████████████| 79/79 [00:04<00:00, 19.62it/s, loss=0.2479, accuracy=0.9134]\n",
            "Val 94/150: 100%|█████████████████████| 20/20 [00:00<00:00, 46.15it/s, loss=0.5612, accuracy=0.8268]\n",
            "Train epoch 95/150: 100%|█████████████| 79/79 [00:04<00:00, 19.30it/s, loss=0.2641, accuracy=0.9079]\n",
            "Val 95/150: 100%|█████████████████████| 20/20 [00:00<00:00, 43.79it/s, loss=0.5650, accuracy=0.8347]\n",
            "Train epoch 96/150: 100%|█████████████| 79/79 [00:04<00:00, 19.41it/s, loss=0.2692, accuracy=0.9061]\n",
            "Val 96/150: 100%|█████████████████████| 20/20 [00:00<00:00, 46.18it/s, loss=0.5558, accuracy=0.8312]\n",
            "Train epoch 97/150: 100%|█████████████| 79/79 [00:04<00:00, 19.48it/s, loss=0.2565, accuracy=0.9101]\n",
            "Val 97/150: 100%|█████████████████████| 20/20 [00:00<00:00, 45.28it/s, loss=0.5563, accuracy=0.8323]\n",
            "Train epoch 98/150: 100%|█████████████| 79/79 [00:04<00:00, 19.20it/s, loss=0.2745, accuracy=0.9038]\n",
            "Val 98/150: 100%|█████████████████████| 20/20 [00:00<00:00, 42.17it/s, loss=0.5700, accuracy=0.8278]\n",
            "Train epoch 99/150: 100%|█████████████| 79/79 [00:04<00:00, 19.46it/s, loss=0.2742, accuracy=0.9049]\n",
            "Val 99/150: 100%|█████████████████████| 20/20 [00:00<00:00, 44.79it/s, loss=0.5841, accuracy=0.8247]\n",
            "Train epoch 100/150: 100%|████████████| 79/79 [00:04<00:00, 19.52it/s, loss=0.2693, accuracy=0.9061]\n",
            "Val 100/150: 100%|████████████████████| 20/20 [00:00<00:00, 45.78it/s, loss=0.5390, accuracy=0.8340]\n",
            "Train epoch 101/150: 100%|████████████| 79/79 [00:04<00:00, 19.39it/s, loss=0.2562, accuracy=0.9104]\n",
            "Val 101/150: 100%|████████████████████| 20/20 [00:00<00:00, 43.20it/s, loss=0.5643, accuracy=0.8393]\n",
            "Train epoch 102/150: 100%|████████████| 79/79 [00:04<00:00, 19.56it/s, loss=0.2604, accuracy=0.9103]\n",
            "Val 102/150: 100%|████████████████████| 20/20 [00:00<00:00, 46.25it/s, loss=0.5529, accuracy=0.8355]\n",
            "Train epoch 103/150: 100%|████████████| 79/79 [00:04<00:00, 19.52it/s, loss=0.2448, accuracy=0.9148]\n",
            "Val 103/150: 100%|████████████████████| 20/20 [00:00<00:00, 45.43it/s, loss=0.5444, accuracy=0.8363]\n",
            "Train epoch 104/150: 100%|████████████| 79/79 [00:04<00:00, 19.28it/s, loss=0.2635, accuracy=0.9086]\n",
            "Val 104/150: 100%|████████████████████| 20/20 [00:00<00:00, 45.88it/s, loss=0.5247, accuracy=0.8409]\n",
            "Train epoch 105/150: 100%|████████████| 79/79 [00:04<00:00, 19.59it/s, loss=0.2370, accuracy=0.9186]\n",
            "Val 105/150: 100%|████████████████████| 20/20 [00:00<00:00, 45.58it/s, loss=0.5627, accuracy=0.8323]\n",
            "Train epoch 106/150: 100%|████████████| 79/79 [00:04<00:00, 19.56it/s, loss=0.2349, accuracy=0.9183]\n",
            "Val 106/150: 100%|████████████████████| 20/20 [00:00<00:00, 45.98it/s, loss=0.5526, accuracy=0.8323]\n",
            "Train epoch 107/150: 100%|████████████| 79/79 [00:04<00:00, 19.38it/s, loss=0.2279, accuracy=0.9206]\n",
            "Val 107/150: 100%|████████████████████| 20/20 [00:00<00:00, 45.55it/s, loss=0.5417, accuracy=0.8457]\n",
            "Train epoch 108/150: 100%|████████████| 79/79 [00:04<00:00, 19.70it/s, loss=0.2601, accuracy=0.9095]\n",
            "Val 108/150: 100%|████████████████████| 20/20 [00:00<00:00, 45.72it/s, loss=0.5736, accuracy=0.8277]\n",
            "Train epoch 109/150: 100%|████████████| 79/79 [00:04<00:00, 19.49it/s, loss=0.2599, accuracy=0.9076]\n",
            "Val 109/150: 100%|████████████████████| 20/20 [00:00<00:00, 45.11it/s, loss=0.5642, accuracy=0.8311]\n",
            "Train epoch 110/150: 100%|████████████| 79/79 [00:04<00:00, 19.21it/s, loss=0.2427, accuracy=0.9147]\n",
            "Val 110/150: 100%|████████████████████| 20/20 [00:00<00:00, 46.51it/s, loss=0.5894, accuracy=0.8268]\n",
            "Train epoch 111/150: 100%|████████████| 79/79 [00:04<00:00, 19.58it/s, loss=0.2417, accuracy=0.9143]\n",
            "Val 111/150: 100%|████████████████████| 20/20 [00:00<00:00, 45.49it/s, loss=0.5727, accuracy=0.8295]\n",
            "Train epoch 112/150: 100%|████████████| 79/79 [00:04<00:00, 19.55it/s, loss=0.2426, accuracy=0.9152]\n",
            "Val 112/150: 100%|████████████████████| 20/20 [00:00<00:00, 45.22it/s, loss=0.5521, accuracy=0.8403]\n",
            "Train epoch 113/150: 100%|████████████| 79/79 [00:04<00:00, 19.31it/s, loss=0.2290, accuracy=0.9198]\n",
            "Val 113/150: 100%|████████████████████| 20/20 [00:00<00:00, 45.94it/s, loss=0.5534, accuracy=0.8360]\n",
            "Train epoch 114/150: 100%|████████████| 79/79 [00:04<00:00, 19.55it/s, loss=0.2296, accuracy=0.9213]\n",
            "Val 114/150: 100%|████████████████████| 20/20 [00:00<00:00, 45.68it/s, loss=0.5422, accuracy=0.8366]\n",
            "Train epoch 115/150: 100%|████████████| 79/79 [00:04<00:00, 19.49it/s, loss=0.2246, accuracy=0.9216]\n",
            "Val 115/150: 100%|████████████████████| 20/20 [00:00<00:00, 42.96it/s, loss=0.5482, accuracy=0.8387]\n",
            "Train epoch 116/150: 100%|████████████| 79/79 [00:04<00:00, 19.27it/s, loss=0.2313, accuracy=0.9195]\n",
            "Val 116/150: 100%|████████████████████| 20/20 [00:00<00:00, 46.25it/s, loss=0.5329, accuracy=0.8415]\n",
            "Train epoch 117/150: 100%|████████████| 79/79 [00:04<00:00, 19.64it/s, loss=0.2326, accuracy=0.9194]\n",
            "Val 117/150: 100%|████████████████████| 20/20 [00:00<00:00, 45.65it/s, loss=0.5571, accuracy=0.8334]\n",
            "Train epoch 118/150: 100%|████████████| 79/79 [00:04<00:00, 19.63it/s, loss=0.2169, accuracy=0.9233]\n",
            "Val 118/150: 100%|████████████████████| 20/20 [00:00<00:00, 45.83it/s, loss=0.5637, accuracy=0.8323]\n",
            "Train epoch 119/150: 100%|████████████| 79/79 [00:04<00:00, 19.31it/s, loss=0.2086, accuracy=0.9276]\n",
            "Val 119/150: 100%|████████████████████| 20/20 [00:00<00:00, 44.81it/s, loss=0.5798, accuracy=0.8300]\n",
            "Train epoch 120/150: 100%|████████████| 79/79 [00:04<00:00, 19.54it/s, loss=0.2145, accuracy=0.9247]\n",
            "Val 120/150: 100%|████████████████████| 20/20 [00:00<00:00, 46.30it/s, loss=0.5763, accuracy=0.8286]\n",
            "Train epoch 121/150: 100%|████████████| 79/79 [00:04<00:00, 19.56it/s, loss=0.2123, accuracy=0.9259]\n",
            "Val 121/150: 100%|████████████████████| 20/20 [00:00<00:00, 44.35it/s, loss=0.5722, accuracy=0.8421]\n",
            "Train epoch 122/150: 100%|████████████| 79/79 [00:04<00:00, 19.47it/s, loss=0.2415, accuracy=0.9164]\n",
            "Val 122/150: 100%|████████████████████| 20/20 [00:00<00:00, 46.06it/s, loss=0.5704, accuracy=0.8371]\n",
            "Train epoch 123/150: 100%|████████████| 79/79 [00:04<00:00, 19.56it/s, loss=0.2315, accuracy=0.9212]\n",
            "Val 123/150: 100%|████████████████████| 20/20 [00:00<00:00, 45.37it/s, loss=0.5801, accuracy=0.8312]\n",
            "Train epoch 124/150: 100%|████████████| 79/79 [00:04<00:00, 19.24it/s, loss=0.2037, accuracy=0.9294]\n",
            "Val 124/150: 100%|████████████████████| 20/20 [00:00<00:00, 43.49it/s, loss=0.5654, accuracy=0.8355]\n",
            "Train epoch 125/150: 100%|████████████| 79/79 [00:04<00:00, 19.14it/s, loss=0.2128, accuracy=0.9261]\n",
            "Val 125/150: 100%|████████████████████| 20/20 [00:00<00:00, 45.50it/s, loss=0.5548, accuracy=0.8406]\n",
            "Train epoch 126/150: 100%|████████████| 79/79 [00:04<00:00, 19.62it/s, loss=0.2148, accuracy=0.9252]\n",
            "Val 126/150: 100%|████████████████████| 20/20 [00:00<00:00, 45.43it/s, loss=0.5752, accuracy=0.8301]\n",
            "Train epoch 127/150: 100%|████████████| 79/79 [00:03<00:00, 19.79it/s, loss=0.2075, accuracy=0.9299]\n",
            "Val 127/150: 100%|████████████████████| 20/20 [00:00<00:00, 44.86it/s, loss=0.5861, accuracy=0.8319]\n",
            "Train epoch 128/150: 100%|████████████| 79/79 [00:04<00:00, 19.49it/s, loss=0.2059, accuracy=0.9277]\n",
            "Val 128/150: 100%|████████████████████| 20/20 [00:00<00:00, 45.97it/s, loss=0.5938, accuracy=0.8312]\n",
            "Train epoch 129/150: 100%|████████████| 79/79 [00:04<00:00, 19.61it/s, loss=0.2006, accuracy=0.9291]\n",
            "Val 129/150: 100%|████████████████████| 20/20 [00:00<00:00, 45.24it/s, loss=0.5737, accuracy=0.8296]\n",
            "Train epoch 130/150: 100%|████████████| 79/79 [00:04<00:00, 19.61it/s, loss=0.2134, accuracy=0.9259]\n",
            "Val 130/150: 100%|████████████████████| 20/20 [00:00<00:00, 41.72it/s, loss=0.5593, accuracy=0.8442]\n",
            "Train epoch 131/150: 100%|████████████| 79/79 [00:04<00:00, 19.30it/s, loss=0.2183, accuracy=0.9245]\n",
            "Val 131/150: 100%|████████████████████| 20/20 [00:00<00:00, 48.08it/s, loss=0.6023, accuracy=0.8310]\n",
            "Train epoch 132/150: 100%|████████████| 79/79 [00:04<00:00, 19.54it/s, loss=0.2147, accuracy=0.9247]\n",
            "Val 132/150: 100%|████████████████████| 20/20 [00:00<00:00, 46.06it/s, loss=0.5927, accuracy=0.8335]\n",
            "Train epoch 133/150: 100%|████████████| 79/79 [00:04<00:00, 19.46it/s, loss=0.2167, accuracy=0.9250]\n",
            "Val 133/150: 100%|████████████████████| 20/20 [00:00<00:00, 45.83it/s, loss=0.5633, accuracy=0.8357]\n",
            "Train epoch 134/150: 100%|████████████| 79/79 [00:04<00:00, 19.47it/s, loss=0.1945, accuracy=0.9327]\n",
            "Val 134/150: 100%|████████████████████| 20/20 [00:00<00:00, 45.28it/s, loss=0.5676, accuracy=0.8396]\n",
            "Train epoch 135/150: 100%|████████████| 79/79 [00:04<00:00, 19.58it/s, loss=0.2092, accuracy=0.9291]\n",
            "Val 135/150: 100%|████████████████████| 20/20 [00:00<00:00, 46.95it/s, loss=0.5726, accuracy=0.8430]\n",
            "Train epoch 136/150: 100%|████████████| 79/79 [00:04<00:00, 19.37it/s, loss=0.2021, accuracy=0.9294]\n",
            "Val 136/150: 100%|████████████████████| 20/20 [00:00<00:00, 43.55it/s, loss=0.5541, accuracy=0.8360]\n",
            "Train epoch 137/150: 100%|████████████| 79/79 [00:04<00:00, 19.18it/s, loss=0.2001, accuracy=0.9297]\n",
            "Val 137/150: 100%|████████████████████| 20/20 [00:00<00:00, 46.01it/s, loss=0.5790, accuracy=0.8365]\n",
            "Train epoch 138/150: 100%|████████████| 79/79 [00:04<00:00, 19.53it/s, loss=0.2222, accuracy=0.9228]\n",
            "Val 138/150: 100%|████████████████████| 20/20 [00:00<00:00, 45.45it/s, loss=0.5593, accuracy=0.8417]\n",
            "Train epoch 139/150: 100%|████████████| 79/79 [00:04<00:00, 19.38it/s, loss=0.1982, accuracy=0.9313]\n",
            "Val 139/150: 100%|████████████████████| 20/20 [00:00<00:00, 46.33it/s, loss=0.5878, accuracy=0.8364]\n",
            "Train epoch 140/150: 100%|████████████| 79/79 [00:04<00:00, 19.45it/s, loss=0.1951, accuracy=0.9333]\n",
            "Val 140/150: 100%|████████████████████| 20/20 [00:00<00:00, 45.52it/s, loss=0.5821, accuracy=0.8400]\n",
            "Train epoch 141/150: 100%|████████████| 79/79 [00:04<00:00, 19.60it/s, loss=0.1970, accuracy=0.9331]\n",
            "Val 141/150: 100%|████████████████████| 20/20 [00:00<00:00, 46.33it/s, loss=0.5562, accuracy=0.8475]\n",
            "Train epoch 142/150: 100%|████████████| 79/79 [00:04<00:00, 19.29it/s, loss=0.2069, accuracy=0.9276]\n",
            "Val 142/150: 100%|████████████████████| 20/20 [00:00<00:00, 42.17it/s, loss=0.6304, accuracy=0.8331]\n",
            "Train epoch 143/150: 100%|████████████| 79/79 [00:04<00:00, 19.35it/s, loss=0.2002, accuracy=0.9306]\n",
            "Val 143/150: 100%|████████████████████| 20/20 [00:00<00:00, 47.46it/s, loss=0.5661, accuracy=0.8384]\n",
            "Train epoch 144/150: 100%|████████████| 79/79 [00:04<00:00, 19.62it/s, loss=0.2027, accuracy=0.9301]\n",
            "Val 144/150: 100%|████████████████████| 20/20 [00:00<00:00, 45.12it/s, loss=0.5783, accuracy=0.8358]\n",
            "Train epoch 145/150: 100%|████████████| 79/79 [00:04<00:00, 19.38it/s, loss=0.1979, accuracy=0.9295]\n",
            "Val 145/150: 100%|████████████████████| 20/20 [00:00<00:00, 44.11it/s, loss=0.5789, accuracy=0.8408]\n",
            "Train epoch 146/150: 100%|████████████| 79/79 [00:04<00:00, 19.45it/s, loss=0.2013, accuracy=0.9295]\n",
            "Val 146/150: 100%|████████████████████| 20/20 [00:00<00:00, 45.38it/s, loss=0.5882, accuracy=0.8394]\n",
            "Train epoch 147/150: 100%|████████████| 79/79 [00:04<00:00, 19.55it/s, loss=0.2006, accuracy=0.9313]\n",
            "Val 147/150: 100%|████████████████████| 20/20 [00:00<00:00, 44.98it/s, loss=0.5815, accuracy=0.8367]\n",
            "Train epoch 148/150: 100%|████████████| 79/79 [00:04<00:00, 19.38it/s, loss=0.2143, accuracy=0.9244]\n",
            "Val 148/150: 100%|████████████████████| 20/20 [00:00<00:00, 45.15it/s, loss=0.5568, accuracy=0.8373]\n",
            "Train epoch 149/150: 100%|████████████| 79/79 [00:04<00:00, 19.57it/s, loss=0.2181, accuracy=0.9240]\n",
            "Val 149/150: 100%|████████████████████| 20/20 [00:00<00:00, 46.42it/s, loss=0.5812, accuracy=0.8360]\n",
            "Train epoch 150/150: 100%|████████████| 79/79 [00:04<00:00, 19.53it/s, loss=0.1908, accuracy=0.9334]\n",
            "Val 150/150: 100%|████████████████████| 20/20 [00:00<00:00, 46.05it/s, loss=0.5553, accuracy=0.8450]\n"
          ]
        }
      ]
    },
    {
      "cell_type": "code",
      "source": [
        "epochs = range(1, len(train_loss_history) + 1)\n",
        "\n",
        "# График функции потерь на тренировочных данных\n",
        "plt.figure(figsize=(12, 5))\n",
        "plt.subplot(1, 2, 1)\n",
        "plt.plot(epochs, train_loss_history, 'b', label='Train Loss')\n",
        "plt.plot(epochs, val_loss_history, 'r', label='Validation Loss')\n",
        "plt.title('Train and Validation Loss')\n",
        "plt.xlabel('Epochs')\n",
        "plt.ylabel('Loss')\n",
        "plt.legend()\n",
        "\n",
        "# График точности на валидационных данных\n",
        "plt.subplot(1, 2, 2)\n",
        "plt.plot(epochs, train_acc_history, 'b', label='Train Accuracy')\n",
        "plt.plot(epochs, val_acc_history, 'g', label='Validation Accuracy')\n",
        "plt.title('Validation Accuracy')\n",
        "plt.xlabel('Epochs')\n",
        "plt.ylabel('Accuracy')\n",
        "plt.legend()\n",
        "\n",
        "plt.tight_layout()\n",
        "plt.show()"
      ],
      "metadata": {
        "id": "Cb9UcC0z1HFi",
        "outputId": "61ea1ed3-429d-4807-c8b3-5e0963574a95",
        "colab": {
          "base_uri": "https://localhost:8080/",
          "height": 507
        }
      },
      "id": "Cb9UcC0z1HFi",
      "execution_count": 22,
      "outputs": [
        {
          "output_type": "display_data",
          "data": {
            "text/plain": [
              "<Figure size 1200x500 with 2 Axes>"
            ],
            "image/png": "[encoded data removed]"
          },
          "metadata": {}
        }
      ]
    },
    {
      "cell_type": "code",
      "source": [
        "test_acc, test_loss = test(model, test_loader, criterion, device)\n",
        "print('Test Loss: {:.4f}\\nTest Accuracy: {:.4f}'.format(test_loss, test_acc))"
      ],
      "metadata": {
        "id": "W0FjAcwn1MPh",
        "outputId": "9caa0f01-ca2a-401c-d6e7-a0c9886f1314",
        "colab": {
          "base_uri": "https://localhost:8080/"
        }
      },
      "id": "W0FjAcwn1MPh",
      "execution_count": 23,
      "outputs": [
        {
          "output_type": "stream",
          "name": "stdout",
          "text": [
            "Test Loss: 0.4125\n",
            "Test Accuracy: 0.8763\n"
          ]
        }
      ]
    }
  ],
  "metadata": {
    "kernelspec": {
      "display_name": "Python 3",
      "name": "python3"
    },
    "language_info": {
      "codemirror_mode": {
        "name": "ipython",
        "version": 3
      },
      "file_extension": ".py",
      "mimetype": "text/x-python",
      "name": "python",
      "nbconvert_exporter": "python",
      "pygments_lexer": "ipython3",
      "version": "3.9.7"
    },
    "colab": {
      "provenance": [],
      "gpuType": "T4"
    },
    "accelerator": "GPU"
  },
  "nbformat": 4,
  "nbformat_minor": 5
}